{
 "cells": [
  {
   "cell_type": "code",
   "execution_count": 52,
   "metadata": {},
   "outputs": [],
   "source": [
    "# Import Librerie\n",
    "import pandas as pd\n",
    "import numpy as np\n",
    "import os\n",
    "from sqlalchemy import create_engine\n",
    "import nltk\n",
    "from nltk.tokenize import word_tokenize\n",
    "import re\n",
    "from collections import Counter\n",
    "from nltk.corpus import stopwords\n",
    "import string\n",
    "import datetime\n",
    "\n",
    "config = {}\n",
    "config_path = os.path.join(os.path.abspath('../../'))\n",
    "config_name = 'config.py'\n",
    "config_file = os.path.join(config_path,config_name)\n",
    "exec(open(config_file).read(),config)"
   ]
  },
  {
   "cell_type": "code",
   "execution_count": 2,
   "metadata": {},
   "outputs": [],
   "source": [
    "# get database connection\n",
    "db=config['DATABASE_ELE']\n",
    "schema=config['SCHEMA_ELE']\n",
    "engine = create_engine(db)\n",
    "\n",
    "user1 = config['USER1']\n",
    "user2 = config['USER2']\n",
    "user3 = config['USER3']"
   ]
  },
  {
   "cell_type": "code",
   "execution_count": 3,
   "metadata": {},
   "outputs": [],
   "source": [
    "#Leggo il file messo a disposizione da Istat per i comuni\n",
    "url=\"http://www.istat.it/storage/codici-unita-amministrative/Elenco-comuni-italiani.csv\"\n",
    "df_comuni = pd.read_csv(url,sep = ';',encoding='latin-1')"
   ]
  },
  {
   "cell_type": "code",
   "execution_count": 73,
   "metadata": {},
   "outputs": [],
   "source": [
    "comuni = df_comuni[u'Denominazione in italiano']"
   ]
  },
  {
   "cell_type": "code",
   "execution_count": 53,
   "metadata": {},
   "outputs": [],
   "source": [
    "# get today's date\n",
    "todays_date = datetime.datetime.now()"
   ]
  },
  {
   "cell_type": "code",
   "execution_count": 9,
   "metadata": {},
   "outputs": [],
   "source": [
    "# Leggo le ultime news\n",
    "cur = engine.execute(\n",
    "    '''     \n",
    "    SELECT\n",
    "    \"desc\" as msg\n",
    "    ,to_char (\"pubAt\"::timestamp at time zone 'UTC', 'YYYY-MM-DD') as dt\n",
    "    ,fonte as fonte\n",
    "    ,\"user\" as user\n",
    "    FROM ''' + schema + '''.\"news\"\n",
    "    WHERE dt_rif=(select max(dt_rif) from ''' + schema + '''.\"news\")\n",
    "    ''')\n",
    "f_news = cur.fetchall()\n",
    "header = ['msg','dt','fonte','user']\n",
    "df_news = pd.DataFrame(f_news, columns=header)"
   ]
  },
  {
   "cell_type": "code",
   "execution_count": 8,
   "metadata": {},
   "outputs": [],
   "source": [
    "# Leggo gli ultime social\n",
    "cur = engine.execute(\n",
    "    '''     \n",
    "    SELECT\n",
    "    msg as msg\n",
    "    ,to_char(dt::timestamp, 'YYYY-MM-DD') as dt\n",
    "    ,sorgente as fonte\n",
    "    ,\"user\" as user\n",
    "    FROM ''' + schema + '''.\"timeline\"\n",
    "    WHERE \n",
    "    sorgente in ('twitter','facebook') and\n",
    "    dt_rif=(select max(dt_rif) from ''' + schema + '''.\"timeline\")\n",
    "    ''')\n",
    "f_social = cur.fetchall()\n",
    "header = ['msg','dt','fonte','user']\n",
    "df_social = pd.DataFrame(f_social, columns=header)"
   ]
  },
  {
   "cell_type": "code",
   "execution_count": 56,
   "metadata": {},
   "outputs": [
    {
     "data": {
      "text/html": [
       "<div>\n",
       "<style>\n",
       "    .dataframe thead tr:only-child th {\n",
       "        text-align: right;\n",
       "    }\n",
       "\n",
       "    .dataframe thead th {\n",
       "        text-align: left;\n",
       "    }\n",
       "\n",
       "    .dataframe tbody tr th {\n",
       "        vertical-align: top;\n",
       "    }\n",
       "</style>\n",
       "<table border=\"1\" class=\"dataframe\">\n",
       "  <thead>\n",
       "    <tr style=\"text-align: right;\">\n",
       "      <th></th>\n",
       "      <th>msg</th>\n",
       "      <th>dt</th>\n",
       "      <th>fonte</th>\n",
       "      <th>user</th>\n",
       "    </tr>\n",
       "  </thead>\n",
       "  <tbody>\n",
       "    <tr>\n",
       "      <th>0</th>\n",
       "      <td>Questo video è girato ovunque. È un falso: mai...</td>\n",
       "      <td>2017-12-03</td>\n",
       "      <td>twitter</td>\n",
       "      <td>Renzi</td>\n",
       "    </tr>\n",
       "    <tr>\n",
       "      <th>1</th>\n",
       "      <td>Guardate che regalo (e augurio) fantastico mi ...</td>\n",
       "      <td>2017-12-03</td>\n",
       "      <td>twitter</td>\n",
       "      <td>Di Maio</td>\n",
       "    </tr>\n",
       "  </tbody>\n",
       "</table>\n",
       "</div>"
      ],
      "text/plain": [
       "                                                 msg          dt    fonte  \\\n",
       "0  Questo video è girato ovunque. È un falso: mai...  2017-12-03  twitter   \n",
       "1  Guardate che regalo (e augurio) fantastico mi ...  2017-12-03  twitter   \n",
       "\n",
       "      user  \n",
       "0    Renzi  \n",
       "1  Di Maio  "
      ]
     },
     "execution_count": 56,
     "metadata": {},
     "output_type": "execute_result"
    }
   ],
   "source": [
    "df = df_social.append(df_news)\n",
    "df.reset_index(drop=True, inplace=True)\n",
    "df.head(2)"
   ]
  },
  {
   "cell_type": "code",
   "execution_count": 57,
   "metadata": {},
   "outputs": [],
   "source": [
    "emoticons_str = r\"\"\"\n",
    "    (?:\n",
    "        [:=;] # Eyes\n",
    "        [oO\\-]? # Nose (optional)\n",
    "        [D\\)\\]\\(\\]/\\\\OpP] # Mouth\n",
    "    )\"\"\"\n",
    " \n",
    "regex_str = [\n",
    "    emoticons_str,\n",
    "    r'<[^>]+>', # HTML tags\n",
    "    r'(?:@[\\w_]+)', # @-mentions\n",
    "    r'http[s]?://(?:[a-z]|[0-9]|[$-_@.&amp;+]|[!*\\(\\),]|(?:%[0-9a-f][0-9a-f]))+', # URLs\n",
    "    r'(?:(?:\\d+,?)+(?:\\.?\\d+)?)', # numbers\n",
    "    r\"(?:[a-z][a-z'\\-_]+[a-z])\", # words with - and '\n",
    "    r'(?:[\\w_]+)', # other words\n",
    "    r'(?:\\S)', # anything else\n",
    "    \n",
    "]\n",
    "    \n",
    "tokens_re = re.compile(r'('+'|'.join(regex_str)+')', re.VERBOSE | re.IGNORECASE)\n",
    "emoticon_re = re.compile(r'^'+emoticons_str+'$', re.VERBOSE | re.IGNORECASE)\n",
    " \n",
    "def tokenize(s):\n",
    "    return tokens_re.findall(s)\n",
    " \n",
    "def preprocess(s, lowercase=False):\n",
    "    tokens = tokenize(s)\n",
    "    if lowercase:\n",
    "        tokens = [token if emoticon_re.search(token) else token.lower() for token in tokens]\n",
    "    return tokens"
   ]
  },
  {
   "cell_type": "code",
   "execution_count": 112,
   "metadata": {},
   "outputs": [],
   "source": [
    "punctuation = list(string.punctuation)\n",
    "stop = punctuation\n",
    "mappe = []\n",
    "for i, row in df['msg'].iteritems():\n",
    "    terms_only = [term for term in preprocess(row) if term not in stop and not term.startswith((':/'))]\n",
    "    for term in terms_only:\n",
    "        d = {}\n",
    "        # check comune\n",
    "        if not(comuni[comuni.isin([term])].empty):\n",
    "            d['comune'] = term\n",
    "            d['fonte'] = df['fonte'][i]\n",
    "            d['dt_post'] = df['dt'][i]\n",
    "            d['user'] = df['user'][i]\n",
    "            d['dt_rif'] = todays_date\n",
    "            mappe.append(d)"
   ]
  },
  {
   "cell_type": "code",
   "execution_count": 113,
   "metadata": {},
   "outputs": [],
   "source": [
    "df_mappe = pd.DataFrame(mappe)"
   ]
  },
  {
   "cell_type": "code",
   "execution_count": 114,
   "metadata": {},
   "outputs": [
    {
     "data": {
      "text/html": [
       "<div>\n",
       "<style>\n",
       "    .dataframe thead tr:only-child th {\n",
       "        text-align: right;\n",
       "    }\n",
       "\n",
       "    .dataframe thead th {\n",
       "        text-align: left;\n",
       "    }\n",
       "\n",
       "    .dataframe tbody tr th {\n",
       "        vertical-align: top;\n",
       "    }\n",
       "</style>\n",
       "<table border=\"1\" class=\"dataframe\">\n",
       "  <thead>\n",
       "    <tr style=\"text-align: right;\">\n",
       "      <th></th>\n",
       "      <th>comune</th>\n",
       "      <th>dt_post</th>\n",
       "      <th>dt_rif</th>\n",
       "      <th>fonte</th>\n",
       "      <th>user</th>\n",
       "    </tr>\n",
       "  </thead>\n",
       "  <tbody>\n",
       "    <tr>\n",
       "      <th>0</th>\n",
       "      <td>Carugo</td>\n",
       "      <td>2017-12-03</td>\n",
       "      <td>2017-12-03 16:19:43.286464</td>\n",
       "      <td>twitter</td>\n",
       "      <td>Di Maio</td>\n",
       "    </tr>\n",
       "    <tr>\n",
       "      <th>1</th>\n",
       "      <td>Carugo</td>\n",
       "      <td>2017-12-03</td>\n",
       "      <td>2017-12-03 16:19:43.286464</td>\n",
       "      <td>facebook</td>\n",
       "      <td>Di Maio</td>\n",
       "    </tr>\n",
       "  </tbody>\n",
       "</table>\n",
       "</div>"
      ],
      "text/plain": [
       "   comune     dt_post                     dt_rif     fonte     user\n",
       "0  Carugo  2017-12-03 2017-12-03 16:19:43.286464   twitter  Di Maio\n",
       "1  Carugo  2017-12-03 2017-12-03 16:19:43.286464  facebook  Di Maio"
      ]
     },
     "execution_count": 114,
     "metadata": {},
     "output_type": "execute_result"
    }
   ],
   "source": [
    "df_mappe.head(2)"
   ]
  },
  {
   "cell_type": "code",
   "execution_count": 115,
   "metadata": {},
   "outputs": [],
   "source": [
    "# write to db\n",
    "df_mappe.to_sql('mappe', engine, schema=schema, if_exists='append')"
   ]
  }
 ],
 "metadata": {
  "kernelspec": {
   "display_name": "Python 2",
   "language": "python",
   "name": "python2"
  },
  "language_info": {
   "codemirror_mode": {
    "name": "ipython",
    "version": 2
   },
   "file_extension": ".py",
   "mimetype": "text/x-python",
   "name": "python",
   "nbconvert_exporter": "python",
   "pygments_lexer": "ipython2",
   "version": "2.7.9"
  }
 },
 "nbformat": 4,
 "nbformat_minor": 2
}
