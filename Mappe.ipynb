{
 "cells": [
  {
   "cell_type": "code",
   "execution_count": 10,
   "metadata": {},
   "outputs": [],
   "source": [
    "# Import Librerie\n",
    "import pandas as pd\n",
    "import numpy as np\n",
    "import os\n",
    "from sqlalchemy import create_engine\n",
    "\n",
    "config = {}\n",
    "config_path = os.path.join(os.path.abspath('../../'))\n",
    "config_name = 'config.py'\n",
    "config_file = os.path.join(config_path,config_name)\n",
    "exec(open(config_file).read(),config)"
   ]
  },
  {
   "cell_type": "code",
   "execution_count": 11,
   "metadata": {},
   "outputs": [],
   "source": [
    "# get database connection\n",
    "db=config['DATABASE_ELE']\n",
    "schema=config['SCHEMA_ELE']\n",
    "engine = create_engine(db)\n",
    "\n",
    "user1 = config['USER1']\n",
    "user2 = config['USER2']\n",
    "user3 = config['USER3']"
   ]
  },
  {
   "cell_type": "code",
   "execution_count": 8,
   "metadata": {},
   "outputs": [],
   "source": [
    "#Leggo il file messo a disposizione da Istat per i comuni\n",
    "url=\"http://www.istat.it/storage/codici-unita-amministrative/Elenco-comuni-italiani.csv\"\n",
    "df_comuni = pd.read_csv(url,sep = ';',encoding='latin-1')"
   ]
  },
  {
   "cell_type": "code",
   "execution_count": null,
   "metadata": {},
   "outputs": [],
   "source": [
    "# get today's date\n",
    "todays_date = datetime.datetime.now()"
   ]
  },
  {
   "cell_type": "code",
   "execution_count": 26,
   "metadata": {},
   "outputs": [
    {
     "data": {
      "text/html": [
       "<div>\n",
       "<style>\n",
       "    .dataframe thead tr:only-child th {\n",
       "        text-align: right;\n",
       "    }\n",
       "\n",
       "    .dataframe thead th {\n",
       "        text-align: left;\n",
       "    }\n",
       "\n",
       "    .dataframe tbody tr th {\n",
       "        vertical-align: top;\n",
       "    }\n",
       "</style>\n",
       "<table border=\"1\" class=\"dataframe\">\n",
       "  <thead>\n",
       "    <tr style=\"text-align: right;\">\n",
       "      <th></th>\n",
       "      <th>msg</th>\n",
       "      <th>dt</th>\n",
       "      <th>fonte</th>\n",
       "      <th>user</th>\n",
       "    </tr>\n",
       "  </thead>\n",
       "  <tbody>\n",
       "    <tr>\n",
       "      <th>0</th>\n",
       "      <td>Tra gli altri ospiti della puntata del 3 dicem...</td>\n",
       "      <td>2017-12-03</td>\n",
       "      <td>Sorrisi.com</td>\n",
       "      <td>Renzi</td>\n",
       "    </tr>\n",
       "    <tr>\n",
       "      <th>1</th>\n",
       "      <td>Giacomo Amadori per “la Verità” il servizio di...</td>\n",
       "      <td>2017-12-03</td>\n",
       "      <td>Dagospia.com</td>\n",
       "      <td>Renzi</td>\n",
       "    </tr>\n",
       "  </tbody>\n",
       "</table>\n",
       "</div>"
      ],
      "text/plain": [
       "                                                 msg          dt  \\\n",
       "0  Tra gli altri ospiti della puntata del 3 dicem...  2017-12-03   \n",
       "1  Giacomo Amadori per “la Verità” il servizio di...  2017-12-03   \n",
       "\n",
       "          fonte   user  \n",
       "0   Sorrisi.com  Renzi  \n",
       "1  Dagospia.com  Renzi  "
      ]
     },
     "execution_count": 26,
     "metadata": {},
     "output_type": "execute_result"
    }
   ],
   "source": [
    "# Leggo le ultime news\n",
    "cur = engine.execute(\n",
    "    '''     \n",
    "    SELECT\n",
    "    \"desc\" as msg\n",
    "    ,to_char (\"pubAt\"::timestamp at time zone 'UTC', 'YYYY-MM-DD') as dt\n",
    "    ,fonte as fonte\n",
    "    ,\"user\" as user\n",
    "    FROM ''' + schema + '''.\"news\"\n",
    "    WHERE dt_rif=(select max(dt_rif) from ''' + schema + '''.\"news\")\n",
    "    ''')\n",
    "f_news = cur.fetchall()\n",
    "header = ['msg','dt','fonte','user']\n",
    "df_news = pd.DataFrame(f_news, columns=header)\n",
    "df_news.head(2)"
   ]
  },
  {
   "cell_type": "code",
   "execution_count": 34,
   "metadata": {},
   "outputs": [
    {
     "data": {
      "text/html": [
       "<div>\n",
       "<style>\n",
       "    .dataframe thead tr:only-child th {\n",
       "        text-align: right;\n",
       "    }\n",
       "\n",
       "    .dataframe thead th {\n",
       "        text-align: left;\n",
       "    }\n",
       "\n",
       "    .dataframe tbody tr th {\n",
       "        vertical-align: top;\n",
       "    }\n",
       "</style>\n",
       "<table border=\"1\" class=\"dataframe\">\n",
       "  <thead>\n",
       "    <tr style=\"text-align: right;\">\n",
       "      <th></th>\n",
       "      <th>msg</th>\n",
       "      <th>dt</th>\n",
       "      <th>fonte</th>\n",
       "      <th>user</th>\n",
       "    </tr>\n",
       "  </thead>\n",
       "  <tbody>\n",
       "    <tr>\n",
       "      <th>0</th>\n",
       "      <td>Questo video è girato ovunque. È un falso: mai...</td>\n",
       "      <td>2017-12-03</td>\n",
       "      <td>twitter</td>\n",
       "      <td>Renzi</td>\n",
       "    </tr>\n",
       "    <tr>\n",
       "      <th>1</th>\n",
       "      <td>RT @GianluigiNuzzi: La buona domenica e’ che N...</td>\n",
       "      <td>2017-12-03</td>\n",
       "      <td>twitter</td>\n",
       "      <td>Di Maio</td>\n",
       "    </tr>\n",
       "  </tbody>\n",
       "</table>\n",
       "</div>"
      ],
      "text/plain": [
       "                                                 msg          dt    fonte  \\\n",
       "0  Questo video è girato ovunque. È un falso: mai...  2017-12-03  twitter   \n",
       "1  RT @GianluigiNuzzi: La buona domenica e’ che N...  2017-12-03  twitter   \n",
       "\n",
       "      user  \n",
       "0    Renzi  \n",
       "1  Di Maio  "
      ]
     },
     "execution_count": 34,
     "metadata": {},
     "output_type": "execute_result"
    }
   ],
   "source": [
    "# Leggo gli ultime social\n",
    "cur = engine.execute(\n",
    "    '''     \n",
    "    SELECT\n",
    "    msg as msg\n",
    "    ,to_char(dt::timestamp, 'YYYY-MM-DD') as dt\n",
    "    ,sorgente as fonte\n",
    "    ,\"user\" as user\n",
    "    FROM ''' + schema + '''.\"timeline\"\n",
    "    WHERE \n",
    "    sorgente in ('twitter','facebook') and\n",
    "    dt_rif=(select max(dt_rif) from ''' + schema + '''.\"timeline\")\n",
    "    ''')\n",
    "f_social = cur.fetchall()\n",
    "header = ['msg','dt','fonte','user']\n",
    "df_social = pd.DataFrame(f_social, columns=header)\n",
    "df_social.head(2)"
   ]
  }
 ],
 "metadata": {
  "kernelspec": {
   "display_name": "Python 2",
   "language": "python",
   "name": "python2"
  },
  "language_info": {
   "codemirror_mode": {
    "name": "ipython",
    "version": 2
   },
   "file_extension": ".py",
   "mimetype": "text/x-python",
   "name": "python",
   "nbconvert_exporter": "python",
   "pygments_lexer": "ipython2",
   "version": "2.7.9"
  }
 },
 "nbformat": 4,
 "nbformat_minor": 2
}
