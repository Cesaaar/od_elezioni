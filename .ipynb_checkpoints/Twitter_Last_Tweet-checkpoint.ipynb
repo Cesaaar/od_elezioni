{
 "cells": [
  {
   "cell_type": "code",
   "execution_count": 1,
   "metadata": {},
   "outputs": [
    {
     "name": "stderr",
     "output_type": "stream",
     "text": [
      "/usr/local/lib/python2.7/dist-packages/pandas/core/computation/__init__.py:18: UserWarning: The installed version of numexpr 2.4 is not supported in pandas and will be not be used\n",
      "The minimum supported version is 2.4.6\n",
      "\n",
      "  ver=ver, min_ver=_MIN_NUMEXPR_VERSION), UserWarning)\n"
     ]
    }
   ],
   "source": [
    "# Import\n",
    "import os\n",
    "import tweepy\n",
    "import sys\n",
    "import datetime\n",
    "import pandas as pd\n",
    "import numpy as np\n",
    "from tweepy.streaming import StreamListener\n",
    "from tweepy import Stream\n",
    "from sqlalchemy import create_engine\n",
    "\n",
    "config = {}\n",
    "config_path = os.path.join(os.path.abspath('../../'))\n",
    "config_name = 'config.py'\n",
    "config_file = os.path.join(config_path,config_name)\n",
    "exec(open(config_file).read(),config)\n",
    "\n",
    "\n",
    "# Key and Secret\n",
    "consumer_key=config['TWITTER_KEY']\n",
    "consumer_secret=config['TWITTER_SECRET']\n",
    "access_token=config['TOKEN']\n",
    "access_token_secret=config['TOKEN_SECRET']"
   ]
  },
  {
   "cell_type": "code",
   "execution_count": 2,
   "metadata": {},
   "outputs": [],
   "source": [
    "# Candidati Elezioni\n",
    "users = [\n",
    "    {'user':config['USER1'],'user_id':config['USER1_ID_TW']},\n",
    "    {'user':config['USER2'],'user_id':config['USER2_ID_TW']},\n",
    "    {'user':config['USER3'],'user_id':config['USER3_ID_TW']},\n",
    "    {'user':config['USER4'],'user_id':config['USER4_ID_TW']},\n",
    "    {'user':config['USER5'],'user_id':config['USER5_ID_TW']},\n",
    "    {'user':config['USER6'],'user_id':config['USER6_ID_TW']}\n",
    "]"
   ]
  },
  {
   "cell_type": "code",
   "execution_count": 3,
   "metadata": {},
   "outputs": [],
   "source": [
    "# Authentication\n",
    "auth = tweepy.OAuthHandler(consumer_key, consumer_secret)\n",
    "auth.set_access_token(access_token, access_token_secret)\n",
    "\n",
    "api = tweepy.API(auth)"
   ]
  },
  {
   "cell_type": "code",
   "execution_count": 4,
   "metadata": {},
   "outputs": [],
   "source": [
    "# get today's date\n",
    "todays_date = datetime.datetime.now()"
   ]
  },
  {
   "cell_type": "code",
   "execution_count": 5,
   "metadata": {},
   "outputs": [],
   "source": [
    "# get lasts tweet\n",
    "def get_last_tweet(tw_user, tw_id, api, date):\n",
    "    timeline = api.user_timeline(tw_id)\n",
    "    dt = timeline[0].created_at\n",
    "    id_post = timeline[0].id\n",
    "    msg = timeline[0].text\n",
    "    likes = timeline[0].favorite_count\n",
    "    \n",
    "    last_tweet = {'user':tw_user,'dt_rif':date,'dt_post':dt,'id_post':id_post, 'msg':msg, 'likes':likes}\n",
    "    \n",
    "    return last_tweet"
   ]
  },
  {
   "cell_type": "code",
   "execution_count": 6,
   "metadata": {},
   "outputs": [],
   "source": [
    "tw_posts = []\n",
    "for user in users:\n",
    "    tw_posts.append(get_last_tweet(user['user'],user['user_id'],api,todays_date))"
   ]
  },
  {
   "cell_type": "code",
   "execution_count": 7,
   "metadata": {},
   "outputs": [],
   "source": [
    "df = pd.DataFrame(tw_posts)"
   ]
  },
  {
   "cell_type": "code",
   "execution_count": 8,
   "metadata": {},
   "outputs": [
    {
     "data": {
      "text/html": [
       "<div>\n",
       "<style>\n",
       "    .dataframe thead tr:only-child th {\n",
       "        text-align: right;\n",
       "    }\n",
       "\n",
       "    .dataframe thead th {\n",
       "        text-align: left;\n",
       "    }\n",
       "\n",
       "    .dataframe tbody tr th {\n",
       "        vertical-align: top;\n",
       "    }\n",
       "</style>\n",
       "<table border=\"1\" class=\"dataframe\">\n",
       "  <thead>\n",
       "    <tr style=\"text-align: right;\">\n",
       "      <th></th>\n",
       "      <th>dt_post</th>\n",
       "      <th>dt_rif</th>\n",
       "      <th>id_post</th>\n",
       "      <th>likes</th>\n",
       "      <th>msg</th>\n",
       "      <th>user</th>\n",
       "    </tr>\n",
       "  </thead>\n",
       "  <tbody>\n",
       "    <tr>\n",
       "      <th>0</th>\n",
       "      <td>2017-11-26 19:16:27</td>\n",
       "      <td>2017-11-27 18:49:10.593654</td>\n",
       "      <td>934863437578100742</td>\n",
       "      <td>0</td>\n",
       "      <td>RT @leopolda_8: Interventi sul palco:\\nEdoardo...</td>\n",
       "      <td>Renzi</td>\n",
       "    </tr>\n",
       "    <tr>\n",
       "      <th>1</th>\n",
       "      <td>2017-11-27 15:44:57</td>\n",
       "      <td>2017-11-27 18:49:10.593654</td>\n",
       "      <td>935172602460598273</td>\n",
       "      <td>0</td>\n",
       "      <td>RT @virginiaraggi: Abbiamo inaugurato un nuovo...</td>\n",
       "      <td>Di Maio</td>\n",
       "    </tr>\n",
       "    <tr>\n",
       "      <th>2</th>\n",
       "      <td>2017-11-27 12:32:49</td>\n",
       "      <td>2017-11-27 18:49:10.593654</td>\n",
       "      <td>935124247671865344</td>\n",
       "      <td>1711</td>\n",
       "      <td>Ho avuto una lunga, affettuosa e cordiale tele...</td>\n",
       "      <td>Berlusconi</td>\n",
       "    </tr>\n",
       "    <tr>\n",
       "      <th>3</th>\n",
       "      <td>2017-11-27 14:10:26</td>\n",
       "      <td>2017-11-27 18:49:10.593654</td>\n",
       "      <td>935148815916720128</td>\n",
       "      <td>150</td>\n",
       "      <td>Torino a 5 Stelle e cinque braccia... https://...</td>\n",
       "      <td>Salvini</td>\n",
       "    </tr>\n",
       "    <tr>\n",
       "      <th>4</th>\n",
       "      <td>2017-11-27 18:21:56</td>\n",
       "      <td>2017-11-27 18:49:10.593654</td>\n",
       "      <td>935212105535541249</td>\n",
       "      <td>24</td>\n",
       "      <td>DA PD E M5S IPOCRITA PROPAGANDA SU FAMIGLIA.\\n...</td>\n",
       "      <td>Meloni</td>\n",
       "    </tr>\n",
       "    <tr>\n",
       "      <th>5</th>\n",
       "      <td>2017-11-25 11:33:54</td>\n",
       "      <td>2017-11-27 18:49:10.593654</td>\n",
       "      <td>934384646464458753</td>\n",
       "      <td>0</td>\n",
       "      <td>RT @CampoProg: \"Gira la notizia che avrei dett...</td>\n",
       "      <td>Pisapia</td>\n",
       "    </tr>\n",
       "  </tbody>\n",
       "</table>\n",
       "</div>"
      ],
      "text/plain": [
       "              dt_post                     dt_rif             id_post  likes  \\\n",
       "0 2017-11-26 19:16:27 2017-11-27 18:49:10.593654  934863437578100742      0   \n",
       "1 2017-11-27 15:44:57 2017-11-27 18:49:10.593654  935172602460598273      0   \n",
       "2 2017-11-27 12:32:49 2017-11-27 18:49:10.593654  935124247671865344   1711   \n",
       "3 2017-11-27 14:10:26 2017-11-27 18:49:10.593654  935148815916720128    150   \n",
       "4 2017-11-27 18:21:56 2017-11-27 18:49:10.593654  935212105535541249     24   \n",
       "5 2017-11-25 11:33:54 2017-11-27 18:49:10.593654  934384646464458753      0   \n",
       "\n",
       "                                                 msg        user  \n",
       "0  RT @leopolda_8: Interventi sul palco:\\nEdoardo...       Renzi  \n",
       "1  RT @virginiaraggi: Abbiamo inaugurato un nuovo...     Di Maio  \n",
       "2  Ho avuto una lunga, affettuosa e cordiale tele...  Berlusconi  \n",
       "3  Torino a 5 Stelle e cinque braccia... https://...     Salvini  \n",
       "4  DA PD E M5S IPOCRITA PROPAGANDA SU FAMIGLIA.\\n...      Meloni  \n",
       "5  RT @CampoProg: \"Gira la notizia che avrei dett...     Pisapia  "
      ]
     },
     "execution_count": 8,
     "metadata": {},
     "output_type": "execute_result"
    }
   ],
   "source": [
    "df"
   ]
  },
  {
   "cell_type": "code",
   "execution_count": 34,
   "metadata": {},
   "outputs": [],
   "source": [
    "# get database connection\n",
    "db=config['DATABASE_ELE']\n",
    "schema=config['SCHEMA_ELE']\n",
    "engine = create_engine(db)"
   ]
  },
  {
   "cell_type": "code",
   "execution_count": 35,
   "metadata": {},
   "outputs": [],
   "source": [
    "# write to db\n",
    "df.to_sql('tw_posts', engine, schema=schema, if_exists='append')"
   ]
  }
 ],
 "metadata": {
  "kernelspec": {
   "display_name": "Python 2",
   "language": "python",
   "name": "python2"
  },
  "language_info": {
   "codemirror_mode": {
    "name": "ipython",
    "version": 2
   },
   "file_extension": ".py",
   "mimetype": "text/x-python",
   "name": "python",
   "nbconvert_exporter": "python",
   "pygments_lexer": "ipython2",
   "version": "2.7.9"
  }
 },
 "nbformat": 4,
 "nbformat_minor": 2
}
