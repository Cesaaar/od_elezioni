{
 "cells": [
  {
   "cell_type": "code",
   "execution_count": 1,
   "metadata": {},
   "outputs": [
    {
     "name": "stderr",
     "output_type": "stream",
     "text": [
      "/usr/local/lib/python2.7/dist-packages/pandas/core/computation/__init__.py:18: UserWarning: The installed version of numexpr 2.4 is not supported in pandas and will be not be used\n",
      "The minimum supported version is 2.4.6\n",
      "\n",
      "  ver=ver, min_ver=_MIN_NUMEXPR_VERSION), UserWarning)\n"
     ]
    }
   ],
   "source": [
    "# Import\n",
    "import os\n",
    "import tweepy\n",
    "import sys\n",
    "import datetime\n",
    "import pandas as pd\n",
    "import numpy as np\n",
    "from sqlalchemy import create_engine\n",
    "\n",
    "config = {}\n",
    "config_path = os.path.join(os.path.abspath('../../'))\n",
    "config_name = 'config.py'\n",
    "config_file = os.path.join(config_path,config_name)\n",
    "exec(open(config_file).read(),config)"
   ]
  },
  {
   "cell_type": "code",
   "execution_count": 3,
   "metadata": {},
   "outputs": [],
   "source": [
    "# get database connection\n",
    "db=config['DATABASE_ELE']\n",
    "schema=config['SCHEMA_ELE']\n",
    "engine = create_engine(db)\n",
    "\n",
    "user1 = config['USER1']\n",
    "user2 = config['USER2']\n",
    "user3 = config['USER3']"
   ]
  },
  {
   "cell_type": "code",
   "execution_count": 27,
   "metadata": {},
   "outputs": [],
   "source": [
    "# get today's date\n",
    "todays_date = datetime.datetime.now()"
   ]
  },
  {
   "cell_type": "code",
   "execution_count": 30,
   "metadata": {},
   "outputs": [],
   "source": [
    "# LAST Twitter Post\n",
    "cur = engine.execute(\n",
    "    '''     \n",
    "    SELECT \n",
    "        dt_post as dt\n",
    "        ,msg as msg\n",
    "        ,\"user\" as user\n",
    "        ,'twitter' as sorgente\n",
    "        ,''' \"'\" + str(todays_date) + \"'\" ''' as dt_rif\n",
    "    FROM ''' + schema + '''.\"tw_posts\"\n",
    "    WHERE \n",
    "        \"user\" in (''' \"'\" + user1 + \"'\" ''',''' \"'\" + user2 + \"'\" ''',''' \"'\" + user3 + \"'\" ''')\n",
    "        and dt_rif=(select max(dt_rif) from ''' + schema + '''.\"tw_posts\")\n",
    "            ''')\n",
    "tw_posts = cur.fetchall()"
   ]
  },
  {
   "cell_type": "code",
   "execution_count": 48,
   "metadata": {},
   "outputs": [],
   "source": [
    "# LAST Facebook Post\n",
    "cur = engine.execute(\n",
    "    '''     \n",
    "    SELECT \n",
    "        to_char (dt_post::timestamp at time zone 'UTC', 'YYYY-MM-DD HH24:MI:SS') as dt\n",
    "        ,msg as msg\n",
    "        ,\"user\" as user\n",
    "        ,'facebook' as sorgente\n",
    "        ,''' \"'\" + str(todays_date) + \"'\" ''' as dt_rif\n",
    "    FROM ''' + schema + '''.\"fb_posts\"\n",
    "    WHERE \n",
    "        \"user\" in (''' \"'\" + user1 + \"'\" ''',''' \"'\" + user2 + \"'\" ''',''' \"'\" + user3 + \"'\" ''')\n",
    "        and dt_rif=(select max(dt_rif) from ''' + schema + '''.\"fb_posts\")\n",
    "            ''')\n",
    "fb_posts = cur.fetchall()"
   ]
  },
  {
   "cell_type": "code",
   "execution_count": 43,
   "metadata": {},
   "outputs": [],
   "source": [
    "# LAST News\n",
    "cur = engine.execute(\n",
    "    '''     \n",
    "    SELECT distinct\n",
    "        to_char (\"pubAt\"::timestamp at time zone 'UTC', 'YYYY-MM-DD HH24:MI:SS') as dt\n",
    "        ,titolo as msg\n",
    "        ,'all' as user\n",
    "        ,'news' as sorgente\n",
    "        ,''' \"'\" + str(todays_date) + \"'\" ''' as dt_rif\n",
    "    FROM ''' + schema + '''.\"news\"\n",
    "    WHERE \n",
    "        dt_rif=(select max(dt_rif) from ''' + schema + '''.\"news\")\n",
    "        order by to_char (\"pubAt\"::timestamp at time zone 'UTC', 'YYYY-MM-DD HH24:MI:SS') desc\n",
    "        limit 10\n",
    "            ''')\n",
    "news = cur.fetchall()"
   ]
  },
  {
   "cell_type": "code",
   "execution_count": 49,
   "metadata": {},
   "outputs": [],
   "source": [
    "header = ['dt','msg','user','sorgente', 'dt_rif']\n",
    "df_tw_post = pd.DataFrame(tw_posts, columns=header)\n",
    "df_fb_post = pd.DataFrame(fb_posts, columns=header)\n",
    "df_news = pd.DataFrame(news, columns=header)"
   ]
  },
  {
   "cell_type": "code",
   "execution_count": 50,
   "metadata": {},
   "outputs": [],
   "source": [
    "df_all = df_news.append(df_tw_post).append(df_fb_post)"
   ]
  },
  {
   "cell_type": "code",
   "execution_count": 53,
   "metadata": {},
   "outputs": [
    {
     "data": {
      "text/html": [
       "<div>\n",
       "<style>\n",
       "    .dataframe thead tr:only-child th {\n",
       "        text-align: right;\n",
       "    }\n",
       "\n",
       "    .dataframe thead th {\n",
       "        text-align: left;\n",
       "    }\n",
       "\n",
       "    .dataframe tbody tr th {\n",
       "        vertical-align: top;\n",
       "    }\n",
       "</style>\n",
       "<table border=\"1\" class=\"dataframe\">\n",
       "  <thead>\n",
       "    <tr style=\"text-align: right;\">\n",
       "      <th></th>\n",
       "      <th>dt</th>\n",
       "      <th>msg</th>\n",
       "      <th>user</th>\n",
       "      <th>sorgente</th>\n",
       "      <th>dt_rif</th>\n",
       "    </tr>\n",
       "  </thead>\n",
       "  <tbody>\n",
       "    <tr>\n",
       "      <th>0</th>\n",
       "      <td>2017-11-27 19:45:02</td>\n",
       "      <td>Renzi ci riprova con lo ius soli. Il no del ce...</td>\n",
       "      <td>all</td>\n",
       "      <td>news</td>\n",
       "      <td>2017-11-27 20:08:08.384491</td>\n",
       "    </tr>\n",
       "    <tr>\n",
       "      <th>1</th>\n",
       "      <td>2017-11-27 19:45:00</td>\n",
       "      <td>LIVE TMW - Montella out: \"Sorpreso dai tempi\"....</td>\n",
       "      <td>all</td>\n",
       "      <td>news</td>\n",
       "      <td>2017-11-27 20:08:08.384491</td>\n",
       "    </tr>\n",
       "  </tbody>\n",
       "</table>\n",
       "</div>"
      ],
      "text/plain": [
       "                    dt                                                msg  \\\n",
       "0  2017-11-27 19:45:02  Renzi ci riprova con lo ius soli. Il no del ce...   \n",
       "1  2017-11-27 19:45:00  LIVE TMW - Montella out: \"Sorpreso dai tempi\"....   \n",
       "\n",
       "  user sorgente                      dt_rif  \n",
       "0  all     news  2017-11-27 20:08:08.384491  \n",
       "1  all     news  2017-11-27 20:08:08.384491  "
      ]
     },
     "execution_count": 53,
     "metadata": {},
     "output_type": "execute_result"
    }
   ],
   "source": [
    "df_all.head(2)"
   ]
  },
  {
   "cell_type": "code",
   "execution_count": 52,
   "metadata": {},
   "outputs": [],
   "source": [
    "# write to db\n",
    "df_all.to_sql('timeline', engine, schema=schema, if_exists='append')"
   ]
  }
 ],
 "metadata": {
  "kernelspec": {
   "display_name": "Python 2",
   "language": "python",
   "name": "python2"
  },
  "language_info": {
   "codemirror_mode": {
    "name": "ipython",
    "version": 2
   },
   "file_extension": ".py",
   "mimetype": "text/x-python",
   "name": "python",
   "nbconvert_exporter": "python",
   "pygments_lexer": "ipython2",
   "version": "2.7.9"
  }
 },
 "nbformat": 4,
 "nbformat_minor": 2
}
