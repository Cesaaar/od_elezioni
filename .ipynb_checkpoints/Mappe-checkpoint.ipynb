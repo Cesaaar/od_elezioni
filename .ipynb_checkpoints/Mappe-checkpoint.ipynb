{
 "cells": [
  {
   "cell_type": "code",
   "execution_count": 1,
   "metadata": {},
   "outputs": [
    {
     "name": "stderr",
     "output_type": "stream",
     "text": [
      "/usr/local/lib/python2.7/dist-packages/pandas/core/computation/__init__.py:18: UserWarning: The installed version of numexpr 2.4 is not supported in pandas and will be not be used\n",
      "The minimum supported version is 2.4.6\n",
      "\n",
      "  ver=ver, min_ver=_MIN_NUMEXPR_VERSION), UserWarning)\n"
     ]
    }
   ],
   "source": [
    "# Import Librerie\n",
    "import pandas as pd\n",
    "import numpy as np\n",
    "import os\n",
    "from sqlalchemy import create_engine\n",
    "import nltk\n",
    "from nltk.tokenize import word_tokenize\n",
    "import re\n",
    "from collections import Counter\n",
    "from nltk.corpus import stopwords\n",
    "import string\n",
    "import datetime\n",
    "\n",
    "config = {}\n",
    "config_path = os.path.join(os.path.abspath('../../'))\n",
    "config_name = 'config.py'\n",
    "config_file = os.path.join(config_path,config_name)\n",
    "exec(open(config_file).read(),config)"
   ]
  },
  {
   "cell_type": "code",
   "execution_count": 2,
   "metadata": {},
   "outputs": [],
   "source": [
    "# get database connection\n",
    "db=config['DATABASE_ELE']\n",
    "schema=config['SCHEMA_ELE']\n",
    "engine = create_engine(db)\n",
    "\n",
    "user1 = config['USER1']\n",
    "user2 = config['USER2']\n",
    "user3 = config['USER3']"
   ]
  },
  {
   "cell_type": "code",
   "execution_count": 3,
   "metadata": {},
   "outputs": [],
   "source": [
    "#Leggo il file messo a disposizione da Istat per i comuni\n",
    "url=\"http://www.istat.it/storage/codici-unita-amministrative/Elenco-comuni-italiani.csv\"\n",
    "df_comuni = pd.read_csv(url,sep = ';',encoding='latin-1')"
   ]
  },
  {
   "cell_type": "code",
   "execution_count": 4,
   "metadata": {},
   "outputs": [],
   "source": [
    "def calc_prov(x):\n",
    "    prov = x['Denominazione provincia']\n",
    "    citt = x[u'Denominazione Città metropolitana']\n",
    "    if(prov=='-'):\n",
    "        prov = citt\n",
    "    return prov"
   ]
  },
  {
   "cell_type": "code",
   "execution_count": 5,
   "metadata": {},
   "outputs": [],
   "source": [
    "df_comuni['provincia_new'] = df_comuni.apply(lambda x: calc_prov(x), axis=1)"
   ]
  },
  {
   "cell_type": "code",
   "execution_count": 6,
   "metadata": {},
   "outputs": [],
   "source": [
    "comuni = df_comuni[u'Denominazione in italiano']"
   ]
  },
  {
   "cell_type": "code",
   "execution_count": 7,
   "metadata": {},
   "outputs": [],
   "source": [
    "province = df_comuni[['Denominazione in italiano','provincia_new']]"
   ]
  },
  {
   "cell_type": "code",
   "execution_count": 8,
   "metadata": {},
   "outputs": [],
   "source": [
    "# get today's date\n",
    "todays_date = datetime.datetime.now()"
   ]
  },
  {
   "cell_type": "code",
   "execution_count": 9,
   "metadata": {},
   "outputs": [],
   "source": [
    "# Leggo le ultime news\n",
    "cur = engine.execute(\n",
    "    '''     \n",
    "    SELECT\n",
    "    \"desc\" as msg\n",
    "    ,to_char (\"pubAt\"::timestamp at time zone 'UTC', 'YYYY-MM-DD') as dt\n",
    "    ,fonte as fonte\n",
    "    ,\"user\" as user\n",
    "    FROM ''' + schema + '''.\"news\"\n",
    "    WHERE dt_rif=(select max(dt_rif) from ''' + schema + '''.\"news\")\n",
    "    ''')\n",
    "f_news = cur.fetchall()\n",
    "header = ['msg','dt','fonte','user']\n",
    "df_news = pd.DataFrame(f_news, columns=header)"
   ]
  },
  {
   "cell_type": "code",
   "execution_count": 10,
   "metadata": {},
   "outputs": [],
   "source": [
    "# Leggo gli ultime social\n",
    "cur = engine.execute(\n",
    "    '''     \n",
    "    SELECT\n",
    "    msg as msg\n",
    "    ,to_char(dt::timestamp, 'YYYY-MM-DD') as dt\n",
    "    ,sorgente as fonte\n",
    "    ,\"user\" as user\n",
    "    FROM ''' + schema + '''.\"timeline\"\n",
    "    WHERE \n",
    "    sorgente in ('twitter','facebook') and\n",
    "    dt_rif=(select max(dt_rif) from ''' + schema + '''.\"timeline\")\n",
    "    ''')\n",
    "f_social = cur.fetchall()\n",
    "header = ['msg','dt','fonte','user']\n",
    "df_social = pd.DataFrame(f_social, columns=header)"
   ]
  },
  {
   "cell_type": "code",
   "execution_count": 11,
   "metadata": {},
   "outputs": [
    {
     "data": {
      "text/html": [
       "<div>\n",
       "<style>\n",
       "    .dataframe thead tr:only-child th {\n",
       "        text-align: right;\n",
       "    }\n",
       "\n",
       "    .dataframe thead th {\n",
       "        text-align: left;\n",
       "    }\n",
       "\n",
       "    .dataframe tbody tr th {\n",
       "        vertical-align: top;\n",
       "    }\n",
       "</style>\n",
       "<table border=\"1\" class=\"dataframe\">\n",
       "  <thead>\n",
       "    <tr style=\"text-align: right;\">\n",
       "      <th></th>\n",
       "      <th>msg</th>\n",
       "      <th>dt</th>\n",
       "      <th>fonte</th>\n",
       "      <th>user</th>\n",
       "    </tr>\n",
       "  </thead>\n",
       "  <tbody>\n",
       "    <tr>\n",
       "      <th>0</th>\n",
       "      <td>Stasera alle 20.35, su Rai 1, a #CheTempoCheFa...</td>\n",
       "      <td>2017-12-03</td>\n",
       "      <td>twitter</td>\n",
       "      <td>Renzi</td>\n",
       "    </tr>\n",
       "    <tr>\n",
       "      <th>1</th>\n",
       "      <td>Dalla parte delle piccole e medie imprese http...</td>\n",
       "      <td>2017-12-03</td>\n",
       "      <td>twitter</td>\n",
       "      <td>Di Maio</td>\n",
       "    </tr>\n",
       "  </tbody>\n",
       "</table>\n",
       "</div>"
      ],
      "text/plain": [
       "                                                 msg          dt    fonte  \\\n",
       "0  Stasera alle 20.35, su Rai 1, a #CheTempoCheFa...  2017-12-03  twitter   \n",
       "1  Dalla parte delle piccole e medie imprese http...  2017-12-03  twitter   \n",
       "\n",
       "      user  \n",
       "0    Renzi  \n",
       "1  Di Maio  "
      ]
     },
     "execution_count": 11,
     "metadata": {},
     "output_type": "execute_result"
    }
   ],
   "source": [
    "df = df_social.append(df_news)\n",
    "df.reset_index(drop=True, inplace=True)\n",
    "df.head(2)"
   ]
  },
  {
   "cell_type": "code",
   "execution_count": 12,
   "metadata": {},
   "outputs": [],
   "source": [
    "emoticons_str = r\"\"\"\n",
    "    (?:\n",
    "        [:=;] # Eyes\n",
    "        [oO\\-]? # Nose (optional)\n",
    "        [D\\)\\]\\(\\]/\\\\OpP] # Mouth\n",
    "    )\"\"\"\n",
    " \n",
    "regex_str = [\n",
    "    emoticons_str,\n",
    "    r'<[^>]+>', # HTML tags\n",
    "    r'(?:@[\\w_]+)', # @-mentions\n",
    "    r'http[s]?://(?:[a-z]|[0-9]|[$-_@.&amp;+]|[!*\\(\\),]|(?:%[0-9a-f][0-9a-f]))+', # URLs\n",
    "    r'(?:(?:\\d+,?)+(?:\\.?\\d+)?)', # numbers\n",
    "    r\"(?:[a-z][a-z'\\-_]+[a-z])\", # words with - and '\n",
    "    r'(?:[\\w_]+)', # other words\n",
    "    r'(?:\\S)', # anything else\n",
    "    \n",
    "]\n",
    "    \n",
    "tokens_re = re.compile(r'('+'|'.join(regex_str)+')', re.VERBOSE | re.IGNORECASE)\n",
    "emoticon_re = re.compile(r'^'+emoticons_str+'$', re.VERBOSE | re.IGNORECASE)\n",
    " \n",
    "def tokenize(s):\n",
    "    return tokens_re.findall(s)\n",
    " \n",
    "def preprocess(s, lowercase=False):\n",
    "    tokens = tokenize(s)\n",
    "    if lowercase:\n",
    "        tokens = [token if emoticon_re.search(token) else token.lower() for token in tokens]\n",
    "    return tokens"
   ]
  },
  {
   "cell_type": "code",
   "execution_count": 14,
   "metadata": {},
   "outputs": [],
   "source": [
    "punctuation = list(string.punctuation)\n",
    "stop = punctuation\n",
    "mappe = []\n",
    "for i, row in df['msg'].iteritems():\n",
    "    terms_only = [term for term in preprocess(row) if term not in stop and not term.startswith((':/'))]\n",
    "    for term in terms_only:\n",
    "        d = {}\n",
    "        # check comune\n",
    "        if not(comuni[comuni.isin([term])].empty):\n",
    "            d['comune'] = term\n",
    "            d['fonte'] = df['fonte'][i]\n",
    "            d['dt_post'] = df['dt'][i]\n",
    "            d['user'] = df['user'][i]\n",
    "            d['dt_rif'] = todays_date\n",
    "            d['provincia'] = province.loc[province['Denominazione in italiano'] == term]['provincia_new'].values[0]\n",
    "            mappe.append(d)"
   ]
  },
  {
   "cell_type": "code",
   "execution_count": 15,
   "metadata": {},
   "outputs": [],
   "source": [
    "df_mappe = pd.DataFrame(mappe)"
   ]
  },
  {
   "cell_type": "code",
   "execution_count": 17,
   "metadata": {},
   "outputs": [
    {
     "data": {
      "text/html": [
       "<div>\n",
       "<style>\n",
       "    .dataframe thead tr:only-child th {\n",
       "        text-align: right;\n",
       "    }\n",
       "\n",
       "    .dataframe thead th {\n",
       "        text-align: left;\n",
       "    }\n",
       "\n",
       "    .dataframe tbody tr th {\n",
       "        vertical-align: top;\n",
       "    }\n",
       "</style>\n",
       "<table border=\"1\" class=\"dataframe\">\n",
       "  <thead>\n",
       "    <tr style=\"text-align: right;\">\n",
       "      <th></th>\n",
       "      <th>comune</th>\n",
       "      <th>dt_post</th>\n",
       "      <th>dt_rif</th>\n",
       "      <th>fonte</th>\n",
       "      <th>provincia</th>\n",
       "      <th>user</th>\n",
       "    </tr>\n",
       "  </thead>\n",
       "  <tbody>\n",
       "    <tr>\n",
       "      <th>0</th>\n",
       "      <td>Carugo</td>\n",
       "      <td>2017-12-03</td>\n",
       "      <td>2017-12-03 20:58:15.783997</td>\n",
       "      <td>facebook</td>\n",
       "      <td>Como</td>\n",
       "      <td>Di Maio</td>\n",
       "    </tr>\n",
       "    <tr>\n",
       "      <th>1</th>\n",
       "      <td>Como</td>\n",
       "      <td>2017-12-03</td>\n",
       "      <td>2017-12-03 20:58:15.783997</td>\n",
       "      <td>facebook</td>\n",
       "      <td>Como</td>\n",
       "      <td>Di Maio</td>\n",
       "    </tr>\n",
       "    <tr>\n",
       "      <th>2</th>\n",
       "      <td>Carugo</td>\n",
       "      <td>2017-12-03</td>\n",
       "      <td>2017-12-03 20:58:15.783997</td>\n",
       "      <td>Ilblogdellestelle.it</td>\n",
       "      <td>Como</td>\n",
       "      <td>Di Maio</td>\n",
       "    </tr>\n",
       "    <tr>\n",
       "      <th>3</th>\n",
       "      <td>Como</td>\n",
       "      <td>2017-12-03</td>\n",
       "      <td>2017-12-03 20:58:15.783997</td>\n",
       "      <td>Ilblogdellestelle.it</td>\n",
       "      <td>Como</td>\n",
       "      <td>Di Maio</td>\n",
       "    </tr>\n",
       "    <tr>\n",
       "      <th>4</th>\n",
       "      <td>Bologna</td>\n",
       "      <td>2017-12-03</td>\n",
       "      <td>2017-12-03 20:58:15.783997</td>\n",
       "      <td>Tuttomercatoweb.com</td>\n",
       "      <td>Bologna</td>\n",
       "      <td>Di Maio</td>\n",
       "    </tr>\n",
       "    <tr>\n",
       "      <th>5</th>\n",
       "      <td>Poli</td>\n",
       "      <td>2017-12-03</td>\n",
       "      <td>2017-12-03 20:58:15.783997</td>\n",
       "      <td>Tuttomercatoweb.com</td>\n",
       "      <td>Roma</td>\n",
       "      <td>Di Maio</td>\n",
       "    </tr>\n",
       "    <tr>\n",
       "      <th>6</th>\n",
       "      <td>Liberi</td>\n",
       "      <td>2017-12-03</td>\n",
       "      <td>2017-12-03 20:58:15.783997</td>\n",
       "      <td>Huffingtonpost.it</td>\n",
       "      <td>Caserta</td>\n",
       "      <td>Di Maio</td>\n",
       "    </tr>\n",
       "    <tr>\n",
       "      <th>7</th>\n",
       "      <td>Liberi</td>\n",
       "      <td>2017-12-03</td>\n",
       "      <td>2017-12-03 20:58:15.783997</td>\n",
       "      <td>Huffingtonpost.it</td>\n",
       "      <td>Caserta</td>\n",
       "      <td>Berlusconi</td>\n",
       "    </tr>\n",
       "  </tbody>\n",
       "</table>\n",
       "</div>"
      ],
      "text/plain": [
       "    comune     dt_post                     dt_rif                 fonte  \\\n",
       "0   Carugo  2017-12-03 2017-12-03 20:58:15.783997              facebook   \n",
       "1     Como  2017-12-03 2017-12-03 20:58:15.783997              facebook   \n",
       "2   Carugo  2017-12-03 2017-12-03 20:58:15.783997  Ilblogdellestelle.it   \n",
       "3     Como  2017-12-03 2017-12-03 20:58:15.783997  Ilblogdellestelle.it   \n",
       "4  Bologna  2017-12-03 2017-12-03 20:58:15.783997   Tuttomercatoweb.com   \n",
       "5     Poli  2017-12-03 2017-12-03 20:58:15.783997   Tuttomercatoweb.com   \n",
       "6   Liberi  2017-12-03 2017-12-03 20:58:15.783997     Huffingtonpost.it   \n",
       "7   Liberi  2017-12-03 2017-12-03 20:58:15.783997     Huffingtonpost.it   \n",
       "\n",
       "  provincia        user  \n",
       "0      Como     Di Maio  \n",
       "1      Como     Di Maio  \n",
       "2      Como     Di Maio  \n",
       "3      Como     Di Maio  \n",
       "4   Bologna     Di Maio  \n",
       "5      Roma     Di Maio  \n",
       "6   Caserta     Di Maio  \n",
       "7   Caserta  Berlusconi  "
      ]
     },
     "execution_count": 17,
     "metadata": {},
     "output_type": "execute_result"
    }
   ],
   "source": [
    "df_mappe"
   ]
  },
  {
   "cell_type": "code",
   "execution_count": 18,
   "metadata": {},
   "outputs": [],
   "source": [
    "# write to db\n",
    "df_mappe.to_sql('mappe', engine, schema=schema, if_exists='append')"
   ]
  }
 ],
 "metadata": {
  "kernelspec": {
   "display_name": "Python 2",
   "language": "python",
   "name": "python2"
  },
  "language_info": {
   "codemirror_mode": {
    "name": "ipython",
    "version": 2
   },
   "file_extension": ".py",
   "mimetype": "text/x-python",
   "name": "python",
   "nbconvert_exporter": "python",
   "pygments_lexer": "ipython2",
   "version": "2.7.9"
  }
 },
 "nbformat": 4,
 "nbformat_minor": 2
}
