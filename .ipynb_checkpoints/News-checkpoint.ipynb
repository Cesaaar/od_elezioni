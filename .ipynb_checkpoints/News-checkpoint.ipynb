{
 "cells": [
  {
   "cell_type": "code",
   "execution_count": 1,
   "metadata": {},
   "outputs": [
    {
     "name": "stderr",
     "output_type": "stream",
     "text": [
      "/usr/local/lib/python2.7/dist-packages/pandas/core/computation/__init__.py:18: UserWarning: The installed version of numexpr 2.4 is not supported in pandas and will be not be used\n",
      "The minimum supported version is 2.4.6\n",
      "\n",
      "  ver=ver, min_ver=_MIN_NUMEXPR_VERSION), UserWarning)\n"
     ]
    }
   ],
   "source": [
    "# import librerie\n",
    "import os\n",
    "import tweepy\n",
    "import facebook\n",
    "import requests\n",
    "import datetime\n",
    "import pandas as pd\n",
    "import numpy as np\n",
    "from sqlalchemy import create_engine\n",
    "import json\n",
    "import requests"
   ]
  },
  {
   "cell_type": "code",
   "execution_count": 2,
   "metadata": {},
   "outputs": [],
   "source": [
    "# configuration file\n",
    "config = {}\n",
    "config_path = os.path.join(os.path.abspath('../../'))\n",
    "config_name = 'config.py'\n",
    "config_file = os.path.join(config_path,config_name)\n",
    "exec(open(config_file).read(),config)\n",
    "nw_key=config['TOKEN_NW']"
   ]
  },
  {
   "cell_type": "code",
   "execution_count": 3,
   "metadata": {},
   "outputs": [],
   "source": [
    "# Candidati Elezioni\n",
    "users = [\n",
    "    {'user':config['USER1'],'user_id':config['USER1_ID_TW']},\n",
    "    {'user':config['USER2'],'user_id':config['USER2_ID_TW']},\n",
    "    {'user':config['USER3'],'user_id':config['USER3_ID_TW']}\n",
    "]"
   ]
  },
  {
   "cell_type": "code",
   "execution_count": 14,
   "metadata": {},
   "outputs": [
    {
     "data": {
      "text/plain": [
       "'2017-11-25'"
      ]
     },
     "execution_count": 14,
     "metadata": {},
     "output_type": "execute_result"
    }
   ],
   "source": [
    "# get today's date\n",
    "todays_date = datetime.datetime.now()\n",
    "yesterday = datetime.datetime.now() - datetime.timedelta(days=1)\n",
    "str_dt = str(yesterday.date())"
   ]
  },
  {
   "cell_type": "code",
   "execution_count": 15,
   "metadata": {},
   "outputs": [],
   "source": [
    "def get_user_news(user,dt,today,key):\n",
    "    url = ('https://newsapi.org/v2/everything?'\n",
    "       'q='+user+'&'\n",
    "       'from='+dt+'&'\n",
    "       'sortBy=publishedAt&'\n",
    "       'language=it&'\n",
    "       'apiKey='+key)\n",
    "    response = requests.get(url)\n",
    "    json_data = json.loads(response.text)\n",
    "    articles = json_data['articles']\n",
    "    l_article = []\n",
    "    for art in articles[0:10]:\n",
    "        d_article = {\n",
    "            'user':user,\n",
    "            'autore':art['author'],\n",
    "            'desc':art['description'],\n",
    "            'pubAt':art['publishedAt'],\n",
    "            'fonte':art['source']['name'],\n",
    "            'titolo':art['title'],\n",
    "            'url':art['url'],\n",
    "            'img':art['urlToImage'],\n",
    "            'dt_rif':today\n",
    "        }\n",
    "        l_article.append(d_article)\n",
    "    \n",
    "    return l_article"
   ]
  },
  {
   "cell_type": "code",
   "execution_count": 42,
   "metadata": {},
   "outputs": [],
   "source": [
    "l = []\n",
    "for user in users:\n",
    "    l.append(get_user_news(user['user'],str_dt,todays_date,nw_key))"
   ]
  },
  {
   "cell_type": "code",
   "execution_count": 53,
   "metadata": {},
   "outputs": [],
   "source": [
    "df0 = pd.DataFrame(l[0])\n",
    "df1 = pd.DataFrame(l[1])\n",
    "df2 = pd.DataFrame(l[2])"
   ]
  },
  {
   "cell_type": "code",
   "execution_count": 55,
   "metadata": {},
   "outputs": [
    {
     "data": {
      "text/html": [
       "<div>\n",
       "<style>\n",
       "    .dataframe thead tr:only-child th {\n",
       "        text-align: right;\n",
       "    }\n",
       "\n",
       "    .dataframe thead th {\n",
       "        text-align: left;\n",
       "    }\n",
       "\n",
       "    .dataframe tbody tr th {\n",
       "        vertical-align: top;\n",
       "    }\n",
       "</style>\n",
       "<table border=\"1\" class=\"dataframe\">\n",
       "  <thead>\n",
       "    <tr style=\"text-align: right;\">\n",
       "      <th></th>\n",
       "      <th>autore</th>\n",
       "      <th>desc</th>\n",
       "      <th>fonte</th>\n",
       "      <th>img</th>\n",
       "      <th>pubAt</th>\n",
       "      <th>titolo</th>\n",
       "      <th>url</th>\n",
       "      <th>user</th>\n",
       "    </tr>\n",
       "  </thead>\n",
       "  <tbody>\n",
       "    <tr>\n",
       "      <th>0</th>\n",
       "      <td>None</td>\n",
       "      <td>Da www.ansa.it matteo renzi leopolda 2017 Matt...</td>\n",
       "      <td>Dagospia.com</td>\n",
       "      <td>http://cdn-static.dagospia.com/img/patch/11-20...</td>\n",
       "      <td>2017-11-26T17:23:51Z</td>\n",
       "      <td>QUANDO NON SAI CHE FARE, VAI CON IL CAVALLO DI...</td>\n",
       "      <td>http://www.dagospia.com/rubrica-3/politica/qua...</td>\n",
       "      <td>Renzi</td>\n",
       "    </tr>\n",
       "    <tr>\n",
       "      <th>1</th>\n",
       "      <td>Claudio Bozza</td>\n",
       "      <td>Andrea Stroppa, 23 anni, esperto di cybersecur...</td>\n",
       "      <td>Corriere.it</td>\n",
       "      <td>http://images2.corriereobjects.it/methode_imag...</td>\n",
       "      <td>2017-11-26T17:14:22Z</td>\n",
       "      <td>Fake news, l’ex hacker consulente di Renzi: ec...</td>\n",
       "      <td>http://www.corriere.it/politica/17_novembre_26...</td>\n",
       "      <td>Renzi</td>\n",
       "    </tr>\n",
       "  </tbody>\n",
       "</table>\n",
       "</div>"
      ],
      "text/plain": [
       "          autore                                               desc  \\\n",
       "0           None  Da www.ansa.it matteo renzi leopolda 2017 Matt...   \n",
       "1  Claudio Bozza  Andrea Stroppa, 23 anni, esperto di cybersecur...   \n",
       "\n",
       "          fonte                                                img  \\\n",
       "0  Dagospia.com  http://cdn-static.dagospia.com/img/patch/11-20...   \n",
       "1   Corriere.it  http://images2.corriereobjects.it/methode_imag...   \n",
       "\n",
       "                  pubAt                                             titolo  \\\n",
       "0  2017-11-26T17:23:51Z  QUANDO NON SAI CHE FARE, VAI CON IL CAVALLO DI...   \n",
       "1  2017-11-26T17:14:22Z  Fake news, l’ex hacker consulente di Renzi: ec...   \n",
       "\n",
       "                                                 url   user  \n",
       "0  http://www.dagospia.com/rubrica-3/politica/qua...  Renzi  \n",
       "1  http://www.corriere.it/politica/17_novembre_26...  Renzi  "
      ]
     },
     "execution_count": 55,
     "metadata": {},
     "output_type": "execute_result"
    }
   ],
   "source": [
    "df = df0.append(df1).append(df2)\n",
    "df.head(2)"
   ]
  },
  {
   "cell_type": "code",
   "execution_count": 56,
   "metadata": {},
   "outputs": [],
   "source": [
    "# get database connection\n",
    "db=config['DATABASE_ELE']\n",
    "schema=config['SCHEMA_ELE']\n",
    "engine = create_engine(db)"
   ]
  },
  {
   "cell_type": "code",
   "execution_count": 57,
   "metadata": {},
   "outputs": [],
   "source": [
    "# write on db\n",
    "df.to_sql('news', engine, schema=schema, if_exists='append')"
   ]
  }
 ],
 "metadata": {
  "kernelspec": {
   "display_name": "Python 2",
   "language": "python",
   "name": "python2"
  },
  "language_info": {
   "codemirror_mode": {
    "name": "ipython",
    "version": 2
   },
   "file_extension": ".py",
   "mimetype": "text/x-python",
   "name": "python",
   "nbconvert_exporter": "python",
   "pygments_lexer": "ipython2",
   "version": "2.7.9"
  }
 },
 "nbformat": 4,
 "nbformat_minor": 2
}
