{
 "cells": [
  {
   "cell_type": "code",
   "execution_count": 1,
   "metadata": {},
   "outputs": [
    {
     "name": "stderr",
     "output_type": "stream",
     "text": [
      "/usr/local/lib/python2.7/dist-packages/pandas/core/computation/__init__.py:18: UserWarning: The installed version of numexpr 2.4 is not supported in pandas and will be not be used\n",
      "The minimum supported version is 2.4.6\n",
      "\n",
      "  ver=ver, min_ver=_MIN_NUMEXPR_VERSION), UserWarning)\n"
     ]
    }
   ],
   "source": [
    "# import librerie\n",
    "import os\n",
    "import tweepy\n",
    "import facebook\n",
    "import requests\n",
    "import datetime\n",
    "import pandas as pd\n",
    "import numpy as np\n",
    "from sqlalchemy import create_engine\n",
    "import json\n",
    "import requests"
   ]
  },
  {
   "cell_type": "code",
   "execution_count": 2,
   "metadata": {},
   "outputs": [],
   "source": [
    "# configuration file\n",
    "config = {}\n",
    "config_path = os.path.join(os.path.abspath('../../'))\n",
    "config_name = 'config.py'\n",
    "config_file = os.path.join(config_path,config_name)\n",
    "exec(open(config_file).read(),config)\n",
    "nw_key=config['TOKEN_NW']"
   ]
  },
  {
   "cell_type": "code",
   "execution_count": 3,
   "metadata": {},
   "outputs": [],
   "source": [
    "# Candidati Elezioni\n",
    "users = [\n",
    "    {'user':config['USER1'],'user_id':config['USER1_ID_TW']},\n",
    "    {'user':config['USER2'],'user_id':config['USER2_ID_TW']},\n",
    "    {'user':config['USER3'],'user_id':config['USER3_ID_TW']}\n",
    "]"
   ]
  },
  {
   "cell_type": "code",
   "execution_count": 4,
   "metadata": {},
   "outputs": [],
   "source": [
    "# get today's date\n",
    "todays_date = datetime.datetime.now()\n",
    "yesterday = datetime.datetime.now() - datetime.timedelta(days=1)\n",
    "str_dt = str(yesterday.date())"
   ]
  },
  {
   "cell_type": "code",
   "execution_count": 12,
   "metadata": {},
   "outputs": [],
   "source": [
    "def get_user_news(user,dt,today,key):\n",
    "    url = ('https://newsapi.org/v2/everything?'\n",
    "       'q='+user+'&'\n",
    "       'from='+dt+'&'\n",
    "       'sortBy=publishedAt&'\n",
    "       'language=it&'\n",
    "       'apiKey='+key)\n",
    "    response = requests.get(url)\n",
    "    json_data = json.loads(response.text)\n",
    "    articles = json_data['articles']\n",
    "    l_article = []\n",
    "    for art in articles[0:5]:\n",
    "        d_article = {\n",
    "            'user':user,\n",
    "            'autore':art['author'],\n",
    "            'desc':art['description'],\n",
    "            'pubAt':art['publishedAt'],\n",
    "            'fonte':art['source']['name'],\n",
    "            'titolo':art['title'],\n",
    "            'url':art['url'],\n",
    "            'img':art['urlToImage'],\n",
    "            'dt_rif':today\n",
    "        }\n",
    "        l_article.append(d_article)\n",
    "    \n",
    "    return l_article"
   ]
  },
  {
   "cell_type": "code",
   "execution_count": 13,
   "metadata": {},
   "outputs": [],
   "source": [
    "l = []\n",
    "for user in users:\n",
    "    l.append(get_user_news(user['user'],str_dt,todays_date,nw_key))"
   ]
  },
  {
   "cell_type": "code",
   "execution_count": 21,
   "metadata": {},
   "outputs": [],
   "source": [
    "df0_user = pd.DataFrame(l[0])\n",
    "df1_user = pd.DataFrame(l[1])\n",
    "df2_user = pd.DataFrame(l[2])"
   ]
  },
  {
   "cell_type": "code",
   "execution_count": 24,
   "metadata": {},
   "outputs": [],
   "source": [
    "df_user = df0_user.append(df1_user).append(df2_user)"
   ]
  },
  {
   "cell_type": "code",
   "execution_count": 23,
   "metadata": {},
   "outputs": [],
   "source": [
    "df0_nouser = df0_user.drop('user',1)\n",
    "df1_nouser = df1_user.drop('user',1)\n",
    "df2_nouser = df2_user.drop('user',1)"
   ]
  },
  {
   "cell_type": "code",
   "execution_count": 25,
   "metadata": {},
   "outputs": [],
   "source": [
    "df_nouser = df0_nouser.append(df1_nouser).append(df2_nouser)"
   ]
  },
  {
   "cell_type": "code",
   "execution_count": 26,
   "metadata": {},
   "outputs": [],
   "source": [
    "df = df_nouser.drop_duplicates()"
   ]
  },
  {
   "cell_type": "code",
   "execution_count": 30,
   "metadata": {},
   "outputs": [],
   "source": [
    "df_user.drop(['autore','desc','dt_rif','fonte','img','pubAt','url'],1,inplace=True)"
   ]
  },
  {
   "cell_type": "code",
   "execution_count": 41,
   "metadata": {},
   "outputs": [],
   "source": [
    "df_user.drop_duplicates(inplace=True)"
   ]
  },
  {
   "cell_type": "code",
   "execution_count": 43,
   "metadata": {},
   "outputs": [],
   "source": [
    "df = df.merge(df_user, left_on='titolo', right_on='titolo', how='inner')"
   ]
  },
  {
   "cell_type": "code",
   "execution_count": 44,
   "metadata": {},
   "outputs": [
    {
     "data": {
      "text/plain": [
       "autore    12\n",
       "desc      15\n",
       "dt_rif    15\n",
       "fonte     15\n",
       "img       15\n",
       "pubAt     15\n",
       "titolo    15\n",
       "url       15\n",
       "user      15\n",
       "dtype: int64"
      ]
     },
     "execution_count": 44,
     "metadata": {},
     "output_type": "execute_result"
    }
   ],
   "source": [
    "df.count()"
   ]
  },
  {
   "cell_type": "code",
   "execution_count": 47,
   "metadata": {},
   "outputs": [
    {
     "data": {
      "text/html": [
       "<div>\n",
       "<style>\n",
       "    .dataframe thead tr:only-child th {\n",
       "        text-align: right;\n",
       "    }\n",
       "\n",
       "    .dataframe thead th {\n",
       "        text-align: left;\n",
       "    }\n",
       "\n",
       "    .dataframe tbody tr th {\n",
       "        vertical-align: top;\n",
       "    }\n",
       "</style>\n",
       "<table border=\"1\" class=\"dataframe\">\n",
       "  <thead>\n",
       "    <tr style=\"text-align: right;\">\n",
       "      <th></th>\n",
       "      <th>autore</th>\n",
       "      <th>desc</th>\n",
       "      <th>dt_rif</th>\n",
       "      <th>fonte</th>\n",
       "      <th>img</th>\n",
       "      <th>pubAt</th>\n",
       "      <th>titolo</th>\n",
       "      <th>url</th>\n",
       "      <th>user</th>\n",
       "    </tr>\n",
       "  </thead>\n",
       "  <tbody>\n",
       "    <tr>\n",
       "      <th>0</th>\n",
       "      <td>Huffington Post</td>\n",
       "      <td>\"Emiliano sta tenendo un comportamento infanti...</td>\n",
       "      <td>2017-12-02 10:58:50.297524</td>\n",
       "      <td>Huffingtonpost.it</td>\n",
       "      <td>https://o.aolcdn.com/images/dims3/GLOB/crop/29...</td>\n",
       "      <td>2017-12-02T10:36:00Z</td>\n",
       "      <td>Marco Bentivogli, segretario Fim-Cisl: \"No a c...</td>\n",
       "      <td>http://www.huffingtonpost.it/2017/12/02/marco-...</td>\n",
       "      <td>Renzi</td>\n",
       "    </tr>\n",
       "    <tr>\n",
       "      <th>1</th>\n",
       "      <td>repubblicawww@repubblica.it (Redazione Repubbl...</td>\n",
       "      <td>I dati diffusi dal Ministero dei beni cultural...</td>\n",
       "      <td>2017-12-02 10:58:50.297524</td>\n",
       "      <td>La Repubblica</td>\n",
       "      <td>https://www.repstatic.it/content/nazionale/img...</td>\n",
       "      <td>2017-12-02T10:17:24Z</td>\n",
       "      <td>Bonus 18enni, 163 milioni spesi in 13 mesi. L'...</td>\n",
       "      <td>http://www.repubblica.it/economia/2017/12/02/n...</td>\n",
       "      <td>Renzi</td>\n",
       "    </tr>\n",
       "  </tbody>\n",
       "</table>\n",
       "</div>"
      ],
      "text/plain": [
       "                                              autore  \\\n",
       "0                                    Huffington Post   \n",
       "1  repubblicawww@repubblica.it (Redazione Repubbl...   \n",
       "\n",
       "                                                desc  \\\n",
       "0  \"Emiliano sta tenendo un comportamento infanti...   \n",
       "1  I dati diffusi dal Ministero dei beni cultural...   \n",
       "\n",
       "                      dt_rif              fonte  \\\n",
       "0 2017-12-02 10:58:50.297524  Huffingtonpost.it   \n",
       "1 2017-12-02 10:58:50.297524      La Repubblica   \n",
       "\n",
       "                                                 img                 pubAt  \\\n",
       "0  https://o.aolcdn.com/images/dims3/GLOB/crop/29...  2017-12-02T10:36:00Z   \n",
       "1  https://www.repstatic.it/content/nazionale/img...  2017-12-02T10:17:24Z   \n",
       "\n",
       "                                              titolo  \\\n",
       "0  Marco Bentivogli, segretario Fim-Cisl: \"No a c...   \n",
       "1  Bonus 18enni, 163 milioni spesi in 13 mesi. L'...   \n",
       "\n",
       "                                                 url   user  \n",
       "0  http://www.huffingtonpost.it/2017/12/02/marco-...  Renzi  \n",
       "1  http://www.repubblica.it/economia/2017/12/02/n...  Renzi  "
      ]
     },
     "execution_count": 47,
     "metadata": {},
     "output_type": "execute_result"
    }
   ],
   "source": [
    "df.head(2)"
   ]
  },
  {
   "cell_type": "code",
   "execution_count": 48,
   "metadata": {},
   "outputs": [],
   "source": [
    "# get database connection\n",
    "db=config['DATABASE_ELE']\n",
    "schema=config['SCHEMA_ELE']\n",
    "engine = create_engine(db)"
   ]
  },
  {
   "cell_type": "code",
   "execution_count": 49,
   "metadata": {},
   "outputs": [],
   "source": [
    "# write on db\n",
    "df.to_sql('news', engine, schema=schema, if_exists='append')"
   ]
  }
 ],
 "metadata": {
  "kernelspec": {
   "display_name": "Python 2",
   "language": "python",
   "name": "python2"
  },
  "language_info": {
   "codemirror_mode": {
    "name": "ipython",
    "version": 2
   },
   "file_extension": ".py",
   "mimetype": "text/x-python",
   "name": "python",
   "nbconvert_exporter": "python",
   "pygments_lexer": "ipython2",
   "version": "2.7.9"
  }
 },
 "nbformat": 4,
 "nbformat_minor": 2
}
