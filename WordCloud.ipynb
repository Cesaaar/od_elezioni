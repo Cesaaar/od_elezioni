{
 "cells": [
  {
   "cell_type": "code",
   "execution_count": 148,
   "metadata": {},
   "outputs": [],
   "source": [
    "# encoding=utf-8\n",
    "import sys  \n",
    "reload(sys)  \n",
    "sys.setdefaultencoding('utf-8')\n",
    "\n",
    "import pandas as pd \n",
    "import numpy as np \n",
    "import datetime as dt \n",
    "from sqlalchemy import create_engine \n",
    "import os\n",
    "from os import path\n",
    "from wordcloud import WordCloud\n",
    "import matplotlib.pyplot as plt\n",
    "from calendar import monthrange\n",
    "from pandas.tseries.offsets import *\n",
    "\n",
    "import nltk\n",
    "from nltk.tokenize import word_tokenize\n",
    "import re\n",
    "from collections import Counter\n",
    "from nltk.corpus import stopwords\n",
    "import string\n",
    "\n",
    "import json\n",
    "import random"
   ]
  },
  {
   "cell_type": "code",
   "execution_count": 149,
   "metadata": {},
   "outputs": [],
   "source": [
    "config = {}\n",
    "config_path = os.path.join(os.path.abspath('../../'))\n",
    "config_name = 'config.py'\n",
    "config_file = os.path.join(config_path,config_name)\n",
    "exec(open(config_file).read(),config)\n",
    "\n",
    "# get database connection\n",
    "db=config['DATABASE_ELE']\n",
    "schema=config['SCHEMA_ELE']\n",
    "engine = create_engine(db)"
   ]
  },
  {
   "cell_type": "code",
   "execution_count": 150,
   "metadata": {},
   "outputs": [],
   "source": [
    "# collezioni i testi dal database\n",
    "cur = engine.execute(\n",
    "    '''\n",
    "    select \n",
    "    \"user\" as utente\n",
    "    ,titolo as msg\n",
    "    ,max(to_char(dt_rif ,'YYYY-MM-DD')) as dt_rif\n",
    "    from ''' + schema + '''.\"news\"\n",
    "    where \"user\" != 'all'\n",
    "    group by \"user\",titolo\n",
    "\n",
    "    UNION ALL\n",
    "\n",
    "    select \n",
    "    \"user\" as utente\n",
    "    ,msg as msg\n",
    "    ,max(substring(dt_rif from 0 for 11)) as dt_rif\n",
    "    from ''' + schema + '''.\"timeline\"\n",
    "    where \"user\" != 'all'\n",
    "    group by \"user\",msg\n",
    "    \n",
    "    '''\n",
    ")\n",
    "\n",
    "f_word = cur.fetchall()\n",
    "header = ['utente','msg','dt']\n",
    "df_word = pd.DataFrame(f_word, columns=header)"
   ]
  },
  {
   "cell_type": "code",
   "execution_count": 151,
   "metadata": {},
   "outputs": [
    {
     "data": {
      "text/html": [
       "<div>\n",
       "<style>\n",
       "    .dataframe thead tr:only-child th {\n",
       "        text-align: right;\n",
       "    }\n",
       "\n",
       "    .dataframe thead th {\n",
       "        text-align: left;\n",
       "    }\n",
       "\n",
       "    .dataframe tbody tr th {\n",
       "        vertical-align: top;\n",
       "    }\n",
       "</style>\n",
       "<table border=\"1\" class=\"dataframe\">\n",
       "  <thead>\n",
       "    <tr style=\"text-align: right;\">\n",
       "      <th></th>\n",
       "      <th>utente</th>\n",
       "      <th>msg</th>\n",
       "      <th>dt</th>\n",
       "    </tr>\n",
       "  </thead>\n",
       "  <tbody>\n",
       "    <tr>\n",
       "      <th>0</th>\n",
       "      <td>Renzi</td>\n",
       "      <td>Liberi e uguali, la sinistra di Grasso e quell...</td>\n",
       "      <td>2017-12-04</td>\n",
       "    </tr>\n",
       "    <tr>\n",
       "      <th>1</th>\n",
       "      <td>Renzi</td>\n",
       "      <td>Maria Elena Boschi, vittima prescelta</td>\n",
       "      <td>2017-12-06</td>\n",
       "    </tr>\n",
       "  </tbody>\n",
       "</table>\n",
       "</div>"
      ],
      "text/plain": [
       "  utente                                                msg          dt\n",
       "0  Renzi  Liberi e uguali, la sinistra di Grasso e quell...  2017-12-04\n",
       "1  Renzi              Maria Elena Boschi, vittima prescelta  2017-12-06"
      ]
     },
     "execution_count": 151,
     "metadata": {},
     "output_type": "execute_result"
    }
   ],
   "source": [
    "df_word.head(2)"
   ]
  },
  {
   "cell_type": "code",
   "execution_count": 152,
   "metadata": {},
   "outputs": [],
   "source": [
    "stopwords = [':/','0','di','e','il','la','E',\n",
    "'a','DI','per','IL','in','non','che','i','A','del','un','con','CHE','LA','ha','le','La',\n",
    "'si','da','Il','ma','su','dei','IN','I', 'NON','UN','ci','PER','UNA','HA','L','PD',\n",
    "'Pd','l','DEL','Non','CON','SI','sono','noi','DELLA','pi','Ma','DA','chi','come','senza',\n",
    "'questo','fa','solo','o','MA','Che','Di','DOPO','dopo','mi','5','soli','ho','questa','se',\n",
    "'4','Per','tra','SOLO','cosa','GLI','NEL','nella','nel','gli','O','CHI','questi','O','gli',\n",
    "'SU','c','cui','dove','tutti','qualit','tutto','queste','degli','gi','D','COME','C','SE',\n",
    "'DEI','POI','vuole','FATTO','al','ancora','https','anche','lo','loro','delle','alla',\n",
    "'abbiamo','co','alle']"
   ]
  },
  {
   "cell_type": "code",
   "execution_count": 153,
   "metadata": {},
   "outputs": [],
   "source": [
    "df_word_renzi = df_word[df_word['utente']=='Renzi']\n",
    "df_word_dimaio = df_word[df_word['utente']=='Di Maio']\n",
    "df_word_berlusconi = df_word[df_word['utente']=='Berlusconi']"
   ]
  },
  {
   "cell_type": "code",
   "execution_count": 154,
   "metadata": {},
   "outputs": [],
   "source": [
    "df_word_renzi['msg'].to_csv('renzi.txt')\n",
    "df_word_dimaio['msg'].to_csv('dimaio.txt')\n",
    "df_word_berlusconi['msg'].to_csv('berlusconi.txt')"
   ]
  },
  {
   "cell_type": "code",
   "execution_count": 155,
   "metadata": {},
   "outputs": [],
   "source": [
    "text_renzi = open('renzi.txt').read()\n",
    "text_dimaio = open('dimaio.txt').read()\n",
    "text_berlusconi = open('berlusconi.txt').read()"
   ]
  },
  {
   "cell_type": "code",
   "execution_count": 161,
   "metadata": {},
   "outputs": [],
   "source": [
    "def grey_color_func(word, font_size, position, orientation, random_state=None,\n",
    "                    **kwargs):\n",
    "    return \"hsl(240, 0%%, %d%%)\" % random.randint(10, 40)"
   ]
  },
  {
   "cell_type": "code",
   "execution_count": 162,
   "metadata": {},
   "outputs": [],
   "source": [
    "# Generate a word cloud image\n",
    "wordcloud_renzi = WordCloud(stopwords=stopwords, background_color='white').generate(text_renzi)\n",
    "wordcloud_dimaio = WordCloud(stopwords=stopwords, background_color='white').generate(text_dimaio)\n",
    "wordcloud_berlusconi = WordCloud(stopwords=stopwords, background_color='white').generate(text_berlusconi)"
   ]
  },
  {
   "cell_type": "code",
   "execution_count": 163,
   "metadata": {},
   "outputs": [
    {
     "data": {
      "text/plain": [
       "<wordcloud.wordcloud.WordCloud at 0x6800a3b0>"
      ]
     },
     "execution_count": 163,
     "metadata": {},
     "output_type": "execute_result"
    }
   ],
   "source": [
    "# store default colored image\n",
    "default_colors_renzi = wordcloud_renzi.to_array()\n",
    "wordcloud_renzi.recolor(color_func=grey_color_func, random_state=3)"
   ]
  },
  {
   "cell_type": "code",
   "execution_count": 164,
   "metadata": {},
   "outputs": [
    {
     "data": {
      "text/plain": [
       "<wordcloud.wordcloud.WordCloud at 0x680703b0>"
      ]
     },
     "execution_count": 164,
     "metadata": {},
     "output_type": "execute_result"
    }
   ],
   "source": [
    "# store default colored image\n",
    "default_colors_dimaio = wordcloud_dimaio.to_array()\n",
    "wordcloud_dimaio.recolor(color_func=grey_color_func, random_state=3)"
   ]
  },
  {
   "cell_type": "code",
   "execution_count": 165,
   "metadata": {},
   "outputs": [
    {
     "data": {
      "text/plain": [
       "<wordcloud.wordcloud.WordCloud at 0x68070490>"
      ]
     },
     "execution_count": 165,
     "metadata": {},
     "output_type": "execute_result"
    }
   ],
   "source": [
    "# store default colored image\n",
    "default_colors_berlusconi = wordcloud_berlusconi.to_array()\n",
    "wordcloud_berlusconi.recolor(color_func=grey_color_func, random_state=3)"
   ]
  },
  {
   "cell_type": "code",
   "execution_count": 172,
   "metadata": {},
   "outputs": [],
   "source": [
    "dir_out = os.path.join('/home/pi/Documents/Progetti/elezioni/elezioni/static/assets/','images')"
   ]
  },
  {
   "cell_type": "code",
   "execution_count": 173,
   "metadata": {},
   "outputs": [
    {
     "data": {
      "text/plain": [
       "<wordcloud.wordcloud.WordCloud at 0x68070490>"
      ]
     },
     "execution_count": 173,
     "metadata": {},
     "output_type": "execute_result"
    }
   ],
   "source": [
    "wordcloud_renzi.to_file(os.path.join(dir_out,'wordcloud_renzi.png'))\n",
    "wordcloud_dimaio.to_file(os.path.join(dir_out,'wordcloud_dimaio.png'))\n",
    "wordcloud_berlusconi.to_file(os.path.join(dir_out,'wordcloud_berlusconi.png'))"
   ]
  }
 ],
 "metadata": {
  "kernelspec": {
   "display_name": "Python 2",
   "language": "python",
   "name": "python2"
  },
  "language_info": {
   "codemirror_mode": {
    "name": "ipython",
    "version": 2
   },
   "file_extension": ".py",
   "mimetype": "text/x-python",
   "name": "python",
   "nbconvert_exporter": "python",
   "pygments_lexer": "ipython2",
   "version": "2.7.9"
  }
 },
 "nbformat": 4,
 "nbformat_minor": 2
}
