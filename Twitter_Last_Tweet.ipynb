{
 "cells": [
  {
   "cell_type": "code",
   "execution_count": 1,
   "metadata": {},
   "outputs": [
    {
     "name": "stderr",
     "output_type": "stream",
     "text": [
      "/usr/local/lib/python2.7/dist-packages/pandas/core/computation/__init__.py:18: UserWarning: The installed version of numexpr 2.4 is not supported in pandas and will be not be used\n",
      "The minimum supported version is 2.4.6\n",
      "\n",
      "  ver=ver, min_ver=_MIN_NUMEXPR_VERSION), UserWarning)\n"
     ]
    }
   ],
   "source": [
    "# Import\n",
    "import os\n",
    "import tweepy\n",
    "import sys\n",
    "import datetime\n",
    "import pandas as pd\n",
    "import numpy as np\n",
    "from tweepy.streaming import StreamListener\n",
    "from tweepy import Stream\n",
    "from sqlalchemy import create_engine\n",
    "\n",
    "config = {}\n",
    "config_path = os.path.join(os.path.abspath('../../'))\n",
    "config_name = 'config.py'\n",
    "config_file = os.path.join(config_path,config_name)\n",
    "exec(open(config_file).read(),config)\n",
    "\n",
    "\n",
    "# Key and Secret\n",
    "consumer_key=config['TWITTER_KEY']\n",
    "consumer_secret=config['TWITTER_SECRET']\n",
    "access_token=config['TOKEN']\n",
    "access_token_secret=config['TOKEN_SECRET']"
   ]
  },
  {
   "cell_type": "code",
   "execution_count": 2,
   "metadata": {},
   "outputs": [],
   "source": [
    "# Candidati Elezioni\n",
    "users = [\n",
    "    {'user':config['USER1'],'user_id':config['USER1_ID_TW']},\n",
    "    {'user':config['USER2'],'user_id':config['USER2_ID_TW']},\n",
    "    {'user':config['USER3'],'user_id':config['USER3_ID_TW']},\n",
    "    {'user':config['USER4'],'user_id':config['USER4_ID_TW']},\n",
    "    {'user':config['USER5'],'user_id':config['USER5_ID_TW']},\n",
    "    {'user':config['USER6'],'user_id':config['USER6_ID_TW']}\n",
    "]"
   ]
  },
  {
   "cell_type": "code",
   "execution_count": 3,
   "metadata": {},
   "outputs": [],
   "source": [
    "# Authentication\n",
    "auth = tweepy.OAuthHandler(consumer_key, consumer_secret)\n",
    "auth.set_access_token(access_token, access_token_secret)\n",
    "\n",
    "api = tweepy.API(auth)"
   ]
  },
  {
   "cell_type": "code",
   "execution_count": 4,
   "metadata": {},
   "outputs": [],
   "source": [
    "# get today's date\n",
    "todays_date = datetime.datetime.now()"
   ]
  },
  {
   "cell_type": "code",
   "execution_count": 30,
   "metadata": {},
   "outputs": [],
   "source": [
    "# get lasts tweet\n",
    "def get_last_tweet(tw_user, tw_id, api, date):\n",
    "    timeline = api.user_timeline(tw_id)\n",
    "    dt = timeline[0].created_at\n",
    "    id_post = timeline[0].id\n",
    "    msg = timeline[0].text\n",
    "    likes = timeline[0].favorite_count\n",
    "    \n",
    "    last_tweet = {'user':tw_user,'dt_rif':date,'dt_post':dt,'id_post':id_post, 'msg':msg, 'likes':likes}\n",
    "    \n",
    "    return last_tweet"
   ]
  },
  {
   "cell_type": "code",
   "execution_count": 31,
   "metadata": {},
   "outputs": [],
   "source": [
    "tw_posts = []\n",
    "for user in users:\n",
    "    tw_posts.append(get_last_tweet(user['user'],user['user_id'],api,todays_date))"
   ]
  },
  {
   "cell_type": "code",
   "execution_count": 32,
   "metadata": {},
   "outputs": [],
   "source": [
    "df = pd.DataFrame(tw_posts)"
   ]
  },
  {
   "cell_type": "code",
   "execution_count": 33,
   "metadata": {},
   "outputs": [
    {
     "data": {
      "text/html": [
       "<div>\n",
       "<style>\n",
       "    .dataframe thead tr:only-child th {\n",
       "        text-align: right;\n",
       "    }\n",
       "\n",
       "    .dataframe thead th {\n",
       "        text-align: left;\n",
       "    }\n",
       "\n",
       "    .dataframe tbody tr th {\n",
       "        vertical-align: top;\n",
       "    }\n",
       "</style>\n",
       "<table border=\"1\" class=\"dataframe\">\n",
       "  <thead>\n",
       "    <tr style=\"text-align: right;\">\n",
       "      <th></th>\n",
       "      <th>dt_post</th>\n",
       "      <th>dt_rif</th>\n",
       "      <th>id_post</th>\n",
       "      <th>likes</th>\n",
       "      <th>msg</th>\n",
       "      <th>user</th>\n",
       "    </tr>\n",
       "  </thead>\n",
       "  <tbody>\n",
       "    <tr>\n",
       "      <th>0</th>\n",
       "      <td>2017-11-26 10:16:42</td>\n",
       "      <td>2017-11-26 15:53:55.653834</td>\n",
       "      <td>934727605714063360</td>\n",
       "      <td>413</td>\n",
       "      <td>Anche oggi interventi di qualità straordinaria...</td>\n",
       "      <td>Renzi</td>\n",
       "    </tr>\n",
       "    <tr>\n",
       "      <th>1</th>\n",
       "      <td>2017-11-25 18:07:15</td>\n",
       "      <td>2017-11-26 15:53:55.653834</td>\n",
       "      <td>934483636614770688</td>\n",
       "      <td>305</td>\n",
       "      <td>Dario Violi è il candidato presidente della Lo...</td>\n",
       "      <td>Di Maio</td>\n",
       "    </tr>\n",
       "    <tr>\n",
       "      <th>2</th>\n",
       "      <td>2017-11-26 12:41:16</td>\n",
       "      <td>2017-11-26 15:53:55.653834</td>\n",
       "      <td>934763986888863744</td>\n",
       "      <td>58</td>\n",
       "      <td>Per il bene dell’Italia dobbiamo riportare a v...</td>\n",
       "      <td>Berlusconi</td>\n",
       "    </tr>\n",
       "    <tr>\n",
       "      <th>3</th>\n",
       "      <td>2017-11-26 11:43:37</td>\n",
       "      <td>2017-11-26 15:53:55.653834</td>\n",
       "      <td>934749478950789121</td>\n",
       "      <td>249</td>\n",
       "      <td>Al mercato del quartiere Sant’Elia di #Cagliar...</td>\n",
       "      <td>Salvini</td>\n",
       "    </tr>\n",
       "    <tr>\n",
       "      <th>4</th>\n",
       "      <td>2017-11-26 15:30:02</td>\n",
       "      <td>2017-11-26 15:53:55.653834</td>\n",
       "      <td>934806460046901248</td>\n",
       "      <td>44</td>\n",
       "      <td>#Redditodinfanzia e #natalità; superdeduzione ...</td>\n",
       "      <td>Meloni</td>\n",
       "    </tr>\n",
       "    <tr>\n",
       "      <th>5</th>\n",
       "      <td>2017-11-25 11:33:54</td>\n",
       "      <td>2017-11-26 15:53:55.653834</td>\n",
       "      <td>934384646464458753</td>\n",
       "      <td>0</td>\n",
       "      <td>RT @CampoProg: \"Gira la notizia che avrei dett...</td>\n",
       "      <td>Pisapia</td>\n",
       "    </tr>\n",
       "  </tbody>\n",
       "</table>\n",
       "</div>"
      ],
      "text/plain": [
       "              dt_post                     dt_rif             id_post  likes  \\\n",
       "0 2017-11-26 10:16:42 2017-11-26 15:53:55.653834  934727605714063360    413   \n",
       "1 2017-11-25 18:07:15 2017-11-26 15:53:55.653834  934483636614770688    305   \n",
       "2 2017-11-26 12:41:16 2017-11-26 15:53:55.653834  934763986888863744     58   \n",
       "3 2017-11-26 11:43:37 2017-11-26 15:53:55.653834  934749478950789121    249   \n",
       "4 2017-11-26 15:30:02 2017-11-26 15:53:55.653834  934806460046901248     44   \n",
       "5 2017-11-25 11:33:54 2017-11-26 15:53:55.653834  934384646464458753      0   \n",
       "\n",
       "                                                 msg        user  \n",
       "0  Anche oggi interventi di qualità straordinaria...       Renzi  \n",
       "1  Dario Violi è il candidato presidente della Lo...     Di Maio  \n",
       "2  Per il bene dell’Italia dobbiamo riportare a v...  Berlusconi  \n",
       "3  Al mercato del quartiere Sant’Elia di #Cagliar...     Salvini  \n",
       "4  #Redditodinfanzia e #natalità; superdeduzione ...      Meloni  \n",
       "5  RT @CampoProg: \"Gira la notizia che avrei dett...     Pisapia  "
      ]
     },
     "execution_count": 33,
     "metadata": {},
     "output_type": "execute_result"
    }
   ],
   "source": [
    "df"
   ]
  },
  {
   "cell_type": "code",
   "execution_count": 34,
   "metadata": {},
   "outputs": [],
   "source": [
    "# get database connection\n",
    "db=config['DATABASE_ELE']\n",
    "schema=config['SCHEMA_ELE']\n",
    "engine = create_engine(db)"
   ]
  },
  {
   "cell_type": "code",
   "execution_count": 35,
   "metadata": {},
   "outputs": [],
   "source": [
    "# write to db\n",
    "df.to_sql('tw_posts', engine, schema=schema, if_exists='append')"
   ]
  }
 ],
 "metadata": {
  "kernelspec": {
   "display_name": "Python 2",
   "language": "python",
   "name": "python2"
  },
  "language_info": {
   "codemirror_mode": {
    "name": "ipython",
    "version": 2
   },
   "file_extension": ".py",
   "mimetype": "text/x-python",
   "name": "python",
   "nbconvert_exporter": "python",
   "pygments_lexer": "ipython2",
   "version": "2.7.9"
  }
 },
 "nbformat": 4,
 "nbformat_minor": 2
}
