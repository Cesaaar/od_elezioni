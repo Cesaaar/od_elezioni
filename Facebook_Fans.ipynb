{
 "cells": [
  {
   "cell_type": "code",
   "execution_count": 40,
   "metadata": {},
   "outputs": [
    {
     "name": "stdout",
     "output_type": "stream",
     "text": [
      "Populating the interactive namespace from numpy and matplotlib\n"
     ]
    }
   ],
   "source": [
    "# import librerie\n",
    "import os\n",
    "import tweepy\n",
    "import facebook\n",
    "import requests\n",
    "import datetime\n",
    "import pandas as pd\n",
    "import numpy as np\n",
    "from sqlalchemy import create_engine\n",
    "import json\n",
    "import matplotlib.pyplot as plt\n",
    "from matplotlib.ticker import FuncFormatter\n",
    "plt.style.use('ggplot')\n",
    "get_ipython().magic('pylab inline')"
   ]
  },
  {
   "cell_type": "code",
   "execution_count": 65,
   "metadata": {},
   "outputs": [],
   "source": [
    "# configuration file\n",
    "config = {}\n",
    "config_path = os.path.join(os.path.abspath('../../'))\n",
    "config_name = 'config.py'\n",
    "config_file = os.path.join(config_path,config_name)\n",
    "exec(open(config_file).read(),config)\n",
    "fb_app_id=config['FB_APP_ID']\n",
    "fb_app_secret=config['FB_APP_SECRET']\n",
    "fb_app_userid=config['FB_APP_USERID']\n",
    "\n",
    "dir_out = os.path.join(os.path.abspath(''),'output')"
   ]
  },
  {
   "cell_type": "code",
   "execution_count": 12,
   "metadata": {},
   "outputs": [],
   "source": [
    "# get access token\n",
    "payload = {'grant_type': 'client_credentials', 'client_id': fb_app_id, 'client_secret': fb_app_secret}\n",
    "response = requests.post('https://graph.facebook.com/oauth/access_token?', params = payload)\n",
    "json_data = json.loads(response.text)\n",
    "access_token = json_data['access_token']"
   ]
  },
  {
   "cell_type": "code",
   "execution_count": 13,
   "metadata": {},
   "outputs": [],
   "source": [
    "# get graph Facebook\n",
    "graph = facebook.GraphAPI(access_token=access_token, version='2.7')"
   ]
  },
  {
   "cell_type": "code",
   "execution_count": 31,
   "metadata": {},
   "outputs": [],
   "source": [
    "# Candidati Elezioni\n",
    "users = [\n",
    "    {'user':'Renzi','user_id':'113335124914'},\n",
    "    {'user':'Di Maio','user_id':'522391027797448'},\n",
    "    {'user':'Salvini','user_id':'252306033154'},\n",
    "    {'user':'Pisapia','user_id':'112352038802143'},\n",
    "    {'user':'Meloni','user_id':'38919827644'},\n",
    "    {'user':'Berlusconi','user_id':'116716651695782'}\n",
    "]"
   ]
  },
  {
   "cell_type": "code",
   "execution_count": 32,
   "metadata": {},
   "outputs": [],
   "source": [
    "# get today's date\n",
    "todays_date = datetime.datetime.now().date()"
   ]
  },
  {
   "cell_type": "code",
   "execution_count": 33,
   "metadata": {},
   "outputs": [],
   "source": [
    "# get fans\n",
    "def get_fans(fb_user, fb_id, graph, date):\n",
    "    info = graph.get_object(id=fb_id, fields='name,fan_count,posts')\n",
    "    fan = info['fan_count']\n",
    "    fan_d = {'dt_rif':todays_date,'user':fb_user,'fb_fans':fan}\n",
    "    return fan_d"
   ]
  },
  {
   "cell_type": "code",
   "execution_count": 34,
   "metadata": {},
   "outputs": [],
   "source": [
    "fb_fans = []\n",
    "for user in users:\n",
    "    fb_fans.append(get_fans(user['user'],user['user_id'],graph,todays_date))"
   ]
  },
  {
   "cell_type": "code",
   "execution_count": 35,
   "metadata": {},
   "outputs": [],
   "source": [
    "df = pd.DataFrame(fb_fans)"
   ]
  },
  {
   "cell_type": "code",
   "execution_count": 36,
   "metadata": {},
   "outputs": [
    {
     "data": {
      "text/html": [
       "<div>\n",
       "<style>\n",
       "    .dataframe thead tr:only-child th {\n",
       "        text-align: right;\n",
       "    }\n",
       "\n",
       "    .dataframe thead th {\n",
       "        text-align: left;\n",
       "    }\n",
       "\n",
       "    .dataframe tbody tr th {\n",
       "        vertical-align: top;\n",
       "    }\n",
       "</style>\n",
       "<table border=\"1\" class=\"dataframe\">\n",
       "  <thead>\n",
       "    <tr style=\"text-align: right;\">\n",
       "      <th></th>\n",
       "      <th>dt_rif</th>\n",
       "      <th>fb_fans</th>\n",
       "      <th>user</th>\n",
       "    </tr>\n",
       "  </thead>\n",
       "  <tbody>\n",
       "    <tr>\n",
       "      <th>0</th>\n",
       "      <td>2017-11-02</td>\n",
       "      <td>1098380</td>\n",
       "      <td>Renzi</td>\n",
       "    </tr>\n",
       "    <tr>\n",
       "      <th>1</th>\n",
       "      <td>2017-11-02</td>\n",
       "      <td>1094242</td>\n",
       "      <td>Di Maio</td>\n",
       "    </tr>\n",
       "    <tr>\n",
       "      <th>2</th>\n",
       "      <td>2017-11-02</td>\n",
       "      <td>1934349</td>\n",
       "      <td>Salvini</td>\n",
       "    </tr>\n",
       "    <tr>\n",
       "      <th>3</th>\n",
       "      <td>2017-11-02</td>\n",
       "      <td>149885</td>\n",
       "      <td>Pisapia</td>\n",
       "    </tr>\n",
       "    <tr>\n",
       "      <th>4</th>\n",
       "      <td>2017-11-02</td>\n",
       "      <td>728827</td>\n",
       "      <td>Meloni</td>\n",
       "    </tr>\n",
       "    <tr>\n",
       "      <th>5</th>\n",
       "      <td>2017-11-02</td>\n",
       "      <td>985118</td>\n",
       "      <td>Berlusconi</td>\n",
       "    </tr>\n",
       "  </tbody>\n",
       "</table>\n",
       "</div>"
      ],
      "text/plain": [
       "       dt_rif  fb_fans        user\n",
       "0  2017-11-02  1098380       Renzi\n",
       "1  2017-11-02  1094242     Di Maio\n",
       "2  2017-11-02  1934349     Salvini\n",
       "3  2017-11-02   149885     Pisapia\n",
       "4  2017-11-02   728827      Meloni\n",
       "5  2017-11-02   985118  Berlusconi"
      ]
     },
     "execution_count": 36,
     "metadata": {},
     "output_type": "execute_result"
    }
   ],
   "source": [
    "df"
   ]
  },
  {
   "cell_type": "code",
   "execution_count": 37,
   "metadata": {},
   "outputs": [],
   "source": [
    "# get database connection\n",
    "db=config['DATABASE_ELE']\n",
    "schema=config['SCHEMA_ELE']\n",
    "engine = create_engine(db)"
   ]
  },
  {
   "cell_type": "code",
   "execution_count": 38,
   "metadata": {},
   "outputs": [],
   "source": [
    "# write on db\n",
    "#df.to_sql('fb_fans', engine, schema=schema, if_exists='append')"
   ]
  },
  {
   "cell_type": "code",
   "execution_count": 66,
   "metadata": {},
   "outputs": [
    {
     "data": {
      "image/png": "[encoded data removed]",
      "text/plain": [
       "<matplotlib.figure.Figure at 0x6a8904b0>"
      ]
     },
     "metadata": {},
     "output_type": "display_data"
    }
   ],
   "source": [
    "# grafico\n",
    "#Grafico Fans #elezioni2018\n",
    "style.use('fivethirtyeight')\n",
    "tp = df.plot(\n",
    "    kind='bar',\n",
    "    legend = False,\n",
    "    figsize = (7,4),\n",
    "    x=df['user'])\n",
    "\n",
    "def millions(x, pos):\n",
    "    'The two args are the value and tick position'\n",
    "    return '%1.1fM' % (x*1e-6)\n",
    "\n",
    "formatter = FuncFormatter(millions)\n",
    "\n",
    "tp.yaxis.set_major_formatter(formatter)\n",
    "\n",
    "for p in tp.patches:\n",
    "    tp.annotate(str(int(round(p.get_height()))), (p.get_x() * 1.005, p.get_height() * 1.005), ha='center', va='center', xytext=(15, 5), textcoords='offset points',fontsize=9)\n",
    "    tp.plot()\n",
    "    \n",
    "tp.tick_params(axis = 'both', which = 'major', labelsize = 10)\n",
    "tp.set_xlabel('Possibili Sfidanti Elezioni 2018',fontsize=8)\n",
    "tp.set_ylabel('Facebook Fans',fontsize=8)\n",
    "\n",
    "tp.axhline(y = 0, color = 'black', linewidth = 4, alpha = 0.7)\n",
    "\n",
    "plt.xticks(rotation=360)\n",
    "\n",
    "text = tp.text(x = -1.1, y = -350000,\n",
    "        s = 'www.ildatomancante.it                                                                                              Fonte: Facebook',\n",
    "        fontsize = 10, color = '#f0f0f0', backgroundcolor = 'grey')\n",
    "\n",
    "text.set_url('http://www.ildatomancante.it')\n",
    "\n",
    "# Adding a title and a subtitle Reddito e aspettativa di vita\n",
    "tp.text(x = -1.1, y = 2300000, s = \"Elezioni 2018 - Sfida Social\",\n",
    "                   fontsize = 14, weight = 'bold', alpha = .75)\n",
    "tp.text(x = -1.1, y = 2100000, \n",
    "                   s = \"Possibili sfidanti politici alle elezioni 2018 e numero di seguaci su Facebook.\\nRenzi e Di Maio testa a testa, Salvini stacca tutti... quanti saranno fake?\",\n",
    "                  fontsize = 10, alpha = .85)\n",
    "\n",
    "fig_posts = tp.get_figure()\n",
    "fig_posts.savefig(os.path.join(dir_out,'FB_Fans.png'), format='png', dpi=300,bbox_inches='tight')\n",
    "fig_posts.savefig(os.path.join(dir_out,'FB_Fans.svg'), format='svg', dpi=300,bbox_inches='tight')"
   ]
  }
 ],
 "metadata": {
  "kernelspec": {
   "display_name": "Python 2",
   "language": "python",
   "name": "python2"
  },
  "language_info": {
   "codemirror_mode": {
    "name": "ipython",
    "version": 2
   },
   "file_extension": ".py",
   "mimetype": "text/x-python",
   "name": "python",
   "nbconvert_exporter": "python",
   "pygments_lexer": "ipython2",
   "version": "2.7.9"
  }
 },
 "nbformat": 4,
 "nbformat_minor": 2
}
