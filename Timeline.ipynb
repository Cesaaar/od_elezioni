{
 "cells": [
  {
   "cell_type": "code",
   "execution_count": 2,
   "metadata": {},
   "outputs": [],
   "source": [
    "# Import\n",
    "import os\n",
    "import tweepy\n",
    "import sys\n",
    "import datetime\n",
    "import pandas as pd\n",
    "import numpy as np\n",
    "from sqlalchemy import create_engine\n",
    "\n",
    "config = {}\n",
    "config_path = os.path.join(os.path.abspath('../../'))\n",
    "config_name = 'config.py'\n",
    "config_file = os.path.join(config_path,config_name)\n",
    "exec(open(config_file).read(),config)"
   ]
  },
  {
   "cell_type": "code",
   "execution_count": 3,
   "metadata": {},
   "outputs": [],
   "source": [
    "# get database connection\n",
    "db=config['DATABASE_ELE']\n",
    "schema=config['SCHEMA_ELE']\n",
    "engine = create_engine(db)\n",
    "\n",
    "user1 = config['USER1']\n",
    "user2 = config['USER2']\n",
    "user3 = config['USER3']"
   ]
  },
  {
   "cell_type": "code",
   "execution_count": 4,
   "metadata": {},
   "outputs": [],
   "source": [
    "# get today's date\n",
    "todays_date = datetime.datetime.now()"
   ]
  },
  {
   "cell_type": "code",
   "execution_count": 5,
   "metadata": {},
   "outputs": [],
   "source": [
    "# LAST Twitter Post\n",
    "cur = engine.execute(\n",
    "    '''     \n",
    "    SELECT \n",
    "        dt_post as dt\n",
    "        ,msg as msg\n",
    "        ,\"user\" as user\n",
    "        ,likes as likes\n",
    "        ,'twitter' as sorgente\n",
    "        ,''' \"'\" + str(todays_date) + \"'\" ''' as dt_rif\n",
    "    FROM ''' + schema + '''.\"tw_posts\"\n",
    "    WHERE \n",
    "        \"user\" in (''' \"'\" + user1 + \"'\" ''',''' \"'\" + user2 + \"'\" ''',''' \"'\" + user3 + \"'\" ''')\n",
    "        and dt_rif=(select max(dt_rif) from ''' + schema + '''.\"tw_posts\")\n",
    "            ''')\n",
    "tw_posts = cur.fetchall()"
   ]
  },
  {
   "cell_type": "code",
   "execution_count": 6,
   "metadata": {},
   "outputs": [],
   "source": [
    "# LAST Facebook Post\n",
    "cur = engine.execute(\n",
    "    '''     \n",
    "    SELECT \n",
    "        to_char (dt_post::timestamp at time zone 'UTC', 'YYYY-MM-DD HH24:MI:SS') as dt\n",
    "        ,msg as msg\n",
    "        ,\"user\" as user\n",
    "        ,likes as likes\n",
    "        ,'facebook' as sorgente\n",
    "        ,''' \"'\" + str(todays_date) + \"'\" ''' as dt_rif\n",
    "    FROM ''' + schema + '''.\"fb_posts\"\n",
    "    WHERE \n",
    "        \"user\" in (''' \"'\" + user1 + \"'\" ''',''' \"'\" + user2 + \"'\" ''',''' \"'\" + user3 + \"'\" ''')\n",
    "        and dt_rif=(select max(dt_rif) from ''' + schema + '''.\"fb_posts\")\n",
    "            ''')\n",
    "fb_posts = cur.fetchall()"
   ]
  },
  {
   "cell_type": "code",
   "execution_count": 7,
   "metadata": {},
   "outputs": [],
   "source": [
    "# LAST News\n",
    "cur = engine.execute(\n",
    "    '''     \n",
    "    SELECT distinct\n",
    "        to_char (\"pubAt\"::timestamp at time zone 'UTC', 'YYYY-MM-DD HH24:MI:SS') as dt\n",
    "        ,titolo as msg\n",
    "        ,'all' as user\n",
    "        ,0 as likes\n",
    "        ,'news' as sorgente\n",
    "        ,''' \"'\" + str(todays_date) + \"'\" ''' as dt_rif\n",
    "    FROM ''' + schema + '''.\"news\"\n",
    "    WHERE \n",
    "        dt_rif=(select max(dt_rif) from ''' + schema + '''.\"news\")\n",
    "        order by to_char (\"pubAt\"::timestamp at time zone 'UTC', 'YYYY-MM-DD HH24:MI:SS') desc\n",
    "        limit 9\n",
    "            ''')\n",
    "news = cur.fetchall()"
   ]
  },
  {
   "cell_type": "code",
   "execution_count": 8,
   "metadata": {},
   "outputs": [],
   "source": [
    "header = ['dt','msg','user','likes','sorgente', 'dt_rif']\n",
    "df_tw_post = pd.DataFrame(tw_posts, columns=header)\n",
    "df_fb_post = pd.DataFrame(fb_posts, columns=header)\n",
    "df_news = pd.DataFrame(news, columns=header)"
   ]
  },
  {
   "cell_type": "code",
   "execution_count": 9,
   "metadata": {},
   "outputs": [],
   "source": [
    "df_all = df_news.append(df_tw_post).append(df_fb_post)"
   ]
  },
  {
   "cell_type": "code",
   "execution_count": 12,
   "metadata": {},
   "outputs": [
    {
     "data": {
      "text/html": [
       "<div>\n",
       "<style>\n",
       "    .dataframe thead tr:only-child th {\n",
       "        text-align: right;\n",
       "    }\n",
       "\n",
       "    .dataframe thead th {\n",
       "        text-align: left;\n",
       "    }\n",
       "\n",
       "    .dataframe tbody tr th {\n",
       "        vertical-align: top;\n",
       "    }\n",
       "</style>\n",
       "<table border=\"1\" class=\"dataframe\">\n",
       "  <thead>\n",
       "    <tr style=\"text-align: right;\">\n",
       "      <th></th>\n",
       "      <th>dt</th>\n",
       "      <th>msg</th>\n",
       "      <th>user</th>\n",
       "      <th>likes</th>\n",
       "      <th>sorgente</th>\n",
       "      <th>dt_rif</th>\n",
       "    </tr>\n",
       "  </thead>\n",
       "  <tbody>\n",
       "    <tr>\n",
       "      <th>0</th>\n",
       "      <td>2017-12-09 09:47:23</td>\n",
       "      <td>NESSUNA PIETÀ PER DELL'UTRI – IL TRIBUNALE DIC...</td>\n",
       "      <td>all</td>\n",
       "      <td>0</td>\n",
       "      <td>news</td>\n",
       "      <td>2017-12-09 10:32:57.169283</td>\n",
       "    </tr>\n",
       "    <tr>\n",
       "      <th>1</th>\n",
       "      <td>2017-12-09 09:22:03</td>\n",
       "      <td>Sondaggi, Pd di Renzi al minimo storico: 24,4%...</td>\n",
       "      <td>all</td>\n",
       "      <td>0</td>\n",
       "      <td>news</td>\n",
       "      <td>2017-12-09 10:32:57.169283</td>\n",
       "    </tr>\n",
       "  </tbody>\n",
       "</table>\n",
       "</div>"
      ],
      "text/plain": [
       "                    dt                                                msg  \\\n",
       "0  2017-12-09 09:47:23  NESSUNA PIETÀ PER DELL'UTRI – IL TRIBUNALE DIC...   \n",
       "1  2017-12-09 09:22:03  Sondaggi, Pd di Renzi al minimo storico: 24,4%...   \n",
       "\n",
       "  user  likes sorgente                      dt_rif  \n",
       "0  all      0     news  2017-12-09 10:32:57.169283  \n",
       "1  all      0     news  2017-12-09 10:32:57.169283  "
      ]
     },
     "execution_count": 12,
     "metadata": {},
     "output_type": "execute_result"
    }
   ],
   "source": [
    "df_all.head(2)"
   ]
  },
  {
   "cell_type": "code",
   "execution_count": 13,
   "metadata": {},
   "outputs": [],
   "source": [
    "# write to db\n",
    "df_all.to_sql('timeline', engine, schema=schema, if_exists='append')"
   ]
  }
 ],
 "metadata": {
  "kernelspec": {
   "display_name": "Python 2",
   "language": "python",
   "name": "python2"
  },
  "language_info": {
   "codemirror_mode": {
    "name": "ipython",
    "version": 2
   },
   "file_extension": ".py",
   "mimetype": "text/x-python",
   "name": "python",
   "nbconvert_exporter": "python",
   "pygments_lexer": "ipython2",
   "version": "2.7.9"
  }
 },
 "nbformat": 4,
 "nbformat_minor": 2
}
