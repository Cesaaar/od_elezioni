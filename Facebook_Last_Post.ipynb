{
 "cells": [
  {
   "cell_type": "code",
   "execution_count": 1,
   "metadata": {},
   "outputs": [
    {
     "name": "stderr",
     "output_type": "stream",
     "text": [
      "/usr/local/lib/python2.7/dist-packages/pandas/core/computation/__init__.py:18: UserWarning: The installed version of numexpr 2.4 is not supported in pandas and will be not be used\n",
      "The minimum supported version is 2.4.6\n",
      "\n",
      "  ver=ver, min_ver=_MIN_NUMEXPR_VERSION), UserWarning)\n"
     ]
    }
   ],
   "source": [
    "# import librerie\n",
    "import os\n",
    "import tweepy\n",
    "import facebook\n",
    "import requests\n",
    "import datetime\n",
    "import pandas as pd\n",
    "import numpy as np\n",
    "from sqlalchemy import create_engine\n",
    "import json"
   ]
  },
  {
   "cell_type": "code",
   "execution_count": 2,
   "metadata": {},
   "outputs": [],
   "source": [
    "# configuration file\n",
    "config = {}\n",
    "config_path = os.path.join(os.path.abspath('../../'))\n",
    "config_name = 'config.py'\n",
    "config_file = os.path.join(config_path,config_name)\n",
    "exec(open(config_file).read(),config)\n",
    "fb_app_id=config['FB_APP_ID']\n",
    "fb_app_secret=config['FB_APP_SECRET']\n",
    "fb_app_userid=config['FB_APP_USERID']\n",
    "\n",
    "dir_out = os.path.join(os.path.abspath(''),'output')"
   ]
  },
  {
   "cell_type": "code",
   "execution_count": 3,
   "metadata": {},
   "outputs": [],
   "source": [
    "# get access token\n",
    "payload = {'grant_type': 'client_credentials', 'client_id': fb_app_id, 'client_secret': fb_app_secret}\n",
    "response = requests.post('https://graph.facebook.com/oauth/access_token?', params = payload)\n",
    "json_data = json.loads(response.text)\n",
    "access_token = json_data['access_token']"
   ]
  },
  {
   "cell_type": "code",
   "execution_count": 4,
   "metadata": {},
   "outputs": [],
   "source": [
    "# get graph Facebook\n",
    "graph = facebook.GraphAPI(access_token=access_token, version='2.7')"
   ]
  },
  {
   "cell_type": "code",
   "execution_count": 5,
   "metadata": {},
   "outputs": [],
   "source": [
    "# Candidati Elezioni\n",
    "users = [\n",
    "    {'user':'Renzi','user_id':'113335124914'},\n",
    "    {'user':'Di Maio','user_id':'522391027797448'},\n",
    "    {'user':'Salvini','user_id':'252306033154'},\n",
    "    {'user':'Pisapia','user_id':'112352038802143'},\n",
    "    {'user':'Meloni','user_id':'38919827644'},\n",
    "    {'user':'Berlusconi','user_id':'116716651695782'}\n",
    "]"
   ]
  },
  {
   "cell_type": "code",
   "execution_count": 6,
   "metadata": {},
   "outputs": [],
   "source": [
    "# get today's date\n",
    "todays_date = datetime.datetime.now()"
   ]
  },
  {
   "cell_type": "code",
   "execution_count": 7,
   "metadata": {},
   "outputs": [],
   "source": [
    "# get last post\n",
    "def get_last_post(fb_user, fb_id, graph, date):\n",
    "    info = graph.get_object(id=fb_id, fields='posts')\n",
    "    \n",
    "    dt = info['posts']['data'][0]['created_time']\n",
    "    id_post = info['posts']['data'][0]['id']\n",
    "    try:\n",
    "        msg = info['posts']['data'][0]['message']\n",
    "    except:\n",
    "        msg = info['posts']['data'][1]['message']\n",
    "    likes = graph.get_connections(id=id_post, connection_name='likes', summary='true')['summary']['total_count']\n",
    "    \n",
    "    last_post = {'user':fb_user,'dt_rif':todays_date,'dt_post':dt,'id_post':id_post, 'msg':msg, 'likes':likes}\n",
    "    \n",
    "    return last_post"
   ]
  },
  {
   "cell_type": "code",
   "execution_count": 8,
   "metadata": {},
   "outputs": [],
   "source": [
    "fb_posts = []\n",
    "for user in users:\n",
    "    fb_posts.append(get_last_post(user['user'],user['user_id'],graph,todays_date))"
   ]
  },
  {
   "cell_type": "code",
   "execution_count": 9,
   "metadata": {},
   "outputs": [],
   "source": [
    "df = pd.DataFrame(fb_posts)"
   ]
  },
  {
   "cell_type": "code",
   "execution_count": 10,
   "metadata": {},
   "outputs": [
    {
     "data": {
      "text/html": [
       "<div>\n",
       "<style>\n",
       "    .dataframe thead tr:only-child th {\n",
       "        text-align: right;\n",
       "    }\n",
       "\n",
       "    .dataframe thead th {\n",
       "        text-align: left;\n",
       "    }\n",
       "\n",
       "    .dataframe tbody tr th {\n",
       "        vertical-align: top;\n",
       "    }\n",
       "</style>\n",
       "<table border=\"1\" class=\"dataframe\">\n",
       "  <thead>\n",
       "    <tr style=\"text-align: right;\">\n",
       "      <th></th>\n",
       "      <th>dt_post</th>\n",
       "      <th>dt_rif</th>\n",
       "      <th>id_post</th>\n",
       "      <th>likes</th>\n",
       "      <th>msg</th>\n",
       "      <th>user</th>\n",
       "    </tr>\n",
       "  </thead>\n",
       "  <tbody>\n",
       "    <tr>\n",
       "      <th>0</th>\n",
       "      <td>2017-11-26T18:01:23+0000</td>\n",
       "      <td>2017-11-27 18:10:48.769235</td>\n",
       "      <td>113335124914_10155450528999915</td>\n",
       "      <td>5345</td>\n",
       "      <td>È stata una delle edizioni della Leopolda più ...</td>\n",
       "      <td>Renzi</td>\n",
       "    </tr>\n",
       "    <tr>\n",
       "      <th>1</th>\n",
       "      <td>2017-11-27T15:02:31+0000</td>\n",
       "      <td>2017-11-27 18:10:48.769235</td>\n",
       "      <td>522391027797448_1532908860078988</td>\n",
       "      <td>982</td>\n",
       "      <td>Da oggi parte la nostra campagna elettorale! N...</td>\n",
       "      <td>Di Maio</td>\n",
       "    </tr>\n",
       "    <tr>\n",
       "      <th>2</th>\n",
       "      <td>2017-11-27T16:23:50+0000</td>\n",
       "      <td>2017-11-27 18:10:48.769235</td>\n",
       "      <td>252306033154_10155333732628155</td>\n",
       "      <td>1544</td>\n",
       "      <td>Nella vita privata ognuno è libero di stare co...</td>\n",
       "      <td>Salvini</td>\n",
       "    </tr>\n",
       "    <tr>\n",
       "      <th>3</th>\n",
       "      <td>2017-10-18T11:07:33+0000</td>\n",
       "      <td>2017-11-27 18:10:48.769235</td>\n",
       "      <td>112352038802143_1437974499573217</td>\n",
       "      <td>330</td>\n",
       "      <td>Ieri ho incontrato un gruppo di Precari Uniti ...</td>\n",
       "      <td>Pisapia</td>\n",
       "    </tr>\n",
       "    <tr>\n",
       "      <th>4</th>\n",
       "      <td>2017-11-27T16:31:01+0000</td>\n",
       "      <td>2017-11-27 18:10:48.769235</td>\n",
       "      <td>38919827644_10155844812207645</td>\n",
       "      <td>750</td>\n",
       "      <td>Mancano pochi mesi al voto e, magicamente, il ...</td>\n",
       "      <td>Meloni</td>\n",
       "    </tr>\n",
       "    <tr>\n",
       "      <th>5</th>\n",
       "      <td>2017-11-27T18:02:37+0000</td>\n",
       "      <td>2017-11-27 18:10:48.769235</td>\n",
       "      <td>116716651695782_1757690284265069</td>\n",
       "      <td>267</td>\n",
       "      <td>Ringrazio ancora una volta tutti coloro che mi...</td>\n",
       "      <td>Berlusconi</td>\n",
       "    </tr>\n",
       "  </tbody>\n",
       "</table>\n",
       "</div>"
      ],
      "text/plain": [
       "                    dt_post                     dt_rif  \\\n",
       "0  2017-11-26T18:01:23+0000 2017-11-27 18:10:48.769235   \n",
       "1  2017-11-27T15:02:31+0000 2017-11-27 18:10:48.769235   \n",
       "2  2017-11-27T16:23:50+0000 2017-11-27 18:10:48.769235   \n",
       "3  2017-10-18T11:07:33+0000 2017-11-27 18:10:48.769235   \n",
       "4  2017-11-27T16:31:01+0000 2017-11-27 18:10:48.769235   \n",
       "5  2017-11-27T18:02:37+0000 2017-11-27 18:10:48.769235   \n",
       "\n",
       "                            id_post  likes  \\\n",
       "0    113335124914_10155450528999915   5345   \n",
       "1  522391027797448_1532908860078988    982   \n",
       "2    252306033154_10155333732628155   1544   \n",
       "3  112352038802143_1437974499573217    330   \n",
       "4     38919827644_10155844812207645    750   \n",
       "5  116716651695782_1757690284265069    267   \n",
       "\n",
       "                                                 msg        user  \n",
       "0  È stata una delle edizioni della Leopolda più ...       Renzi  \n",
       "1  Da oggi parte la nostra campagna elettorale! N...     Di Maio  \n",
       "2  Nella vita privata ognuno è libero di stare co...     Salvini  \n",
       "3  Ieri ho incontrato un gruppo di Precari Uniti ...     Pisapia  \n",
       "4  Mancano pochi mesi al voto e, magicamente, il ...      Meloni  \n",
       "5  Ringrazio ancora una volta tutti coloro che mi...  Berlusconi  "
      ]
     },
     "execution_count": 10,
     "metadata": {},
     "output_type": "execute_result"
    }
   ],
   "source": [
    "df"
   ]
  },
  {
   "cell_type": "code",
   "execution_count": 11,
   "metadata": {},
   "outputs": [],
   "source": [
    "# get database connection\n",
    "db=config['DATABASE_ELE']\n",
    "schema=config['SCHEMA_ELE']\n",
    "engine = create_engine(db)"
   ]
  },
  {
   "cell_type": "code",
   "execution_count": 12,
   "metadata": {},
   "outputs": [],
   "source": [
    "# write to db\n",
    "df.to_sql('fb_posts', engine, schema=schema, if_exists='append')"
   ]
  }
 ],
 "metadata": {
  "kernelspec": {
   "display_name": "Python 2",
   "language": "python",
   "name": "python2"
  },
  "language_info": {
   "codemirror_mode": {
    "name": "ipython",
    "version": 2
   },
   "file_extension": ".py",
   "mimetype": "text/x-python",
   "name": "python",
   "nbconvert_exporter": "python",
   "pygments_lexer": "ipython2",
   "version": "2.7.9"
  }
 },
 "nbformat": 4,
 "nbformat_minor": 2
}
